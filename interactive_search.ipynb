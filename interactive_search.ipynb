{
 "cells": [
  {
   "cell_type": "markdown",
   "metadata": {},
   "source": [
    "# Interactive Data Search Tool\n",
    "\n",
    "This notebook provides an interactive way to search through the CDM ontology data tables.\n",
    "\n",
    "**Note**: This uses local parquet files for quick searching. Run on remote JupyterHub for full dataset."
   ]
  },
  {
   "cell_type": "code",
   "execution_count": 9,
   "metadata": {},
   "outputs": [],
   "source": [
    "import pandas as pd\n",
    "import pyarrow.parquet as pq\n",
    "from IPython.display import display, HTML\n",
    "import ipywidgets as widgets\n",
    "from ipywidgets import interact, interactive, fixed\n",
    "import warnings\n",
    "warnings.filterwarnings('ignore')\n",
    "\n",
    "# For remote execution, uncomment these:\n",
    "# from spark.utils import get_spark_session\n",
    "# spark = get_spark_session()"
   ]
  },
  {
   "cell_type": "markdown",
   "metadata": {},
   "source": [
    "## Load Data Tables\n",
    "\n",
    "Loading smaller tables into memory for interactive searching. For the large tables, we'll use sampling."
   ]
  },
  {
   "cell_type": "code",
   "execution_count": 10,
   "metadata": {},
   "outputs": [
    {
     "name": "stdout",
     "output_type": "stream",
     "text": [
      "Loading statements...\n"
     ]
    },
    {
     "ename": "FileNotFoundError",
     "evalue": "[Errno 2] Failed to open local file 'data/statements.parquet'. Detail: [errno 2] No such file or directory",
     "output_type": "error",
     "traceback": [
      "\u001b[31m---------------------------------------------------------------------------\u001b[39m",
      "\u001b[31mFileNotFoundError\u001b[39m                         Traceback (most recent call last)",
      "\u001b[36mCell\u001b[39m\u001b[36m \u001b[39m\u001b[32mIn[10]\u001b[39m\u001b[32m, line 18\u001b[39m\n\u001b[32m     15\u001b[39m \u001b[38;5;28mprint\u001b[39m(\u001b[33mf\u001b[39m\u001b[33m\"\u001b[39m\u001b[33mLoading \u001b[39m\u001b[38;5;132;01m{\u001b[39;00mname\u001b[38;5;132;01m}\u001b[39;00m\u001b[33m...\u001b[39m\u001b[33m\"\u001b[39m)\n\u001b[32m     17\u001b[39m \u001b[38;5;66;03m# Get file info\u001b[39;00m\n\u001b[32m---> \u001b[39m\u001b[32m18\u001b[39m parquet_file = \u001b[43mpq\u001b[49m\u001b[43m.\u001b[49m\u001b[43mParquetFile\u001b[49m\u001b[43m(\u001b[49m\u001b[43mpath\u001b[49m\u001b[43m)\u001b[49m\n\u001b[32m     19\u001b[39m total_rows = parquet_file.metadata.num_rows\n\u001b[32m     21\u001b[39m \u001b[38;5;28;01mif\u001b[39;00m total_rows > \u001b[32m1_000_000\u001b[39m:  \u001b[38;5;66;03m# Sample large files\u001b[39;00m\n\u001b[32m     22\u001b[39m     \u001b[38;5;66;03m# Read only first 100k rows for interactive search\u001b[39;00m\n",
      "\u001b[36mFile \u001b[39m\u001b[32m/opt/bitnami/python/lib/python3.11/site-packages/pyarrow/parquet/core.py:312\u001b[39m, in \u001b[36mParquetFile.__init__\u001b[39m\u001b[34m(self, source, metadata, common_metadata, read_dictionary, memory_map, buffer_size, pre_buffer, coerce_int96_timestamp_unit, decryption_properties, thrift_string_size_limit, thrift_container_size_limit, filesystem, page_checksum_verification)\u001b[39m\n\u001b[32m    309\u001b[39m filesystem, source = _resolve_filesystem_and_path(\n\u001b[32m    310\u001b[39m     source, filesystem, memory_map=memory_map)\n\u001b[32m    311\u001b[39m \u001b[38;5;28;01mif\u001b[39;00m filesystem \u001b[38;5;129;01mis\u001b[39;00m \u001b[38;5;129;01mnot\u001b[39;00m \u001b[38;5;28;01mNone\u001b[39;00m:\n\u001b[32m--> \u001b[39m\u001b[32m312\u001b[39m     source = \u001b[43mfilesystem\u001b[49m\u001b[43m.\u001b[49m\u001b[43mopen_input_file\u001b[49m\u001b[43m(\u001b[49m\u001b[43msource\u001b[49m\u001b[43m)\u001b[49m\n\u001b[32m    313\u001b[39m     \u001b[38;5;28mself\u001b[39m._close_source = \u001b[38;5;28;01mTrue\u001b[39;00m  \u001b[38;5;66;03m# We opened it here, ensure we close it.\u001b[39;00m\n\u001b[32m    315\u001b[39m \u001b[38;5;28mself\u001b[39m.reader = ParquetReader()\n",
      "\u001b[36mFile \u001b[39m\u001b[32m/opt/bitnami/python/lib/python3.11/site-packages/pyarrow/_fs.pyx:787\u001b[39m, in \u001b[36mpyarrow._fs.FileSystem.open_input_file\u001b[39m\u001b[34m()\u001b[39m\n",
      "\u001b[36mFile \u001b[39m\u001b[32m/opt/bitnami/python/lib/python3.11/site-packages/pyarrow/error.pxi:155\u001b[39m, in \u001b[36mpyarrow.lib.pyarrow_internal_check_status\u001b[39m\u001b[34m()\u001b[39m\n",
      "\u001b[36mFile \u001b[39m\u001b[32m/opt/bitnami/python/lib/python3.11/site-packages/pyarrow/error.pxi:92\u001b[39m, in \u001b[36mpyarrow.lib.check_status\u001b[39m\u001b[34m()\u001b[39m\n",
      "\u001b[31mFileNotFoundError\u001b[39m: [Errno 2] Failed to open local file 'data/statements.parquet'. Detail: [errno 2] No such file or directory"
     ]
    }
   ],
   "source": [
    "# Define data files\n",
    "data_files = {\n",
    "    'statements': 'data/statements.parquet',\n",
    "    'entailed_edge': 'data/entailed_edge.parquet',\n",
    "    'feature_annotation': 'data/feature_annotation.parquet',\n",
    "    'term_association': 'data/term_association.parquet'\n",
    "    # Ignoring prefix.parquet as requested\n",
    "}\n",
    "\n",
    "# Load smaller tables completely, sample larger ones\n",
    "dataframes = {}\n",
    "table_info = {}\n",
    "\n",
    "for name, path in data_files.items():\n",
    "    print(f\"Loading {name}...\")\n",
    "    \n",
    "    # Get file info\n",
    "    parquet_file = pq.ParquetFile(path)\n",
    "    total_rows = parquet_file.metadata.num_rows\n",
    "    \n",
    "    if total_rows > 1_000_000:  # Sample large files\n",
    "        # Read only first 100k rows for interactive search\n",
    "        df = pd.read_parquet(path, engine='pyarrow').head(100_000)\n",
    "        table_info[name] = f\"Sampled: 100,000 of {total_rows:,} rows\"\n",
    "    else:\n",
    "        df = pd.read_parquet(path, engine='pyarrow')\n",
    "        table_info[name] = f\"Complete: {total_rows:,} rows\"\n",
    "    \n",
    "    dataframes[name] = df\n",
    "    print(f\"  Loaded {table_info[name]}\")\n",
    "    print(f\"  Columns: {list(df.columns)}\")\n",
    "    print()"
   ]
  },
  {
   "cell_type": "markdown",
   "metadata": {},
   "source": [
    "## Interactive Search Widget"
   ]
  },
  {
   "cell_type": "code",
   "execution_count": 3,
   "metadata": {},
   "outputs": [
    {
     "ename": "TraitError",
     "evalue": "Invalid selection: value not found",
     "output_type": "error",
     "traceback": [
      "\u001b[31m---------------------------------------------------------------------------\u001b[39m",
      "\u001b[31mStopIteration\u001b[39m                             Traceback (most recent call last)",
      "\u001b[36mFile \u001b[39m\u001b[32m/opt/bitnami/python/lib/python3.11/site-packages/ipywidgets/widgets/widget_selection.py:133\u001b[39m, in \u001b[36mfindvalue\u001b[39m\u001b[34m(array, value, compare)\u001b[39m\n\u001b[32m    132\u001b[39m \u001b[38;5;28;01mtry\u001b[39;00m:\n\u001b[32m--> \u001b[39m\u001b[32m133\u001b[39m     \u001b[38;5;28;01mreturn\u001b[39;00m \u001b[38;5;28;43mnext\u001b[39;49m\u001b[43m(\u001b[49m\u001b[43mx\u001b[49m\u001b[43m \u001b[49m\u001b[38;5;28;43;01mfor\u001b[39;49;00m\u001b[43m \u001b[49m\u001b[43mx\u001b[49m\u001b[43m \u001b[49m\u001b[38;5;129;43;01min\u001b[39;49;00m\u001b[43m \u001b[49m\u001b[43marray\u001b[49m\u001b[43m \u001b[49m\u001b[38;5;28;43;01mif\u001b[39;49;00m\u001b[43m \u001b[49m\u001b[43mcompare\u001b[49m\u001b[43m(\u001b[49m\u001b[43mx\u001b[49m\u001b[43m,\u001b[49m\u001b[43m \u001b[49m\u001b[43mvalue\u001b[49m\u001b[43m)\u001b[49m\u001b[43m)\u001b[49m\n\u001b[32m    134\u001b[39m \u001b[38;5;28;01mexcept\u001b[39;00m \u001b[38;5;167;01mStopIteration\u001b[39;00m:\n",
      "\u001b[31mStopIteration\u001b[39m: ",
      "\nDuring handling of the above exception, another exception occurred:\n",
      "\u001b[31mValueError\u001b[39m                                Traceback (most recent call last)",
      "\u001b[36mFile \u001b[39m\u001b[32m/opt/bitnami/python/lib/python3.11/site-packages/ipywidgets/widgets/widget_selection.py:242\u001b[39m, in \u001b[36m_Selection._validate_value\u001b[39m\u001b[34m(self, proposal)\u001b[39m\n\u001b[32m    241\u001b[39m \u001b[38;5;28;01mtry\u001b[39;00m:\n\u001b[32m--> \u001b[39m\u001b[32m242\u001b[39m     \u001b[38;5;28;01mreturn\u001b[39;00m \u001b[43mfindvalue\u001b[49m\u001b[43m(\u001b[49m\u001b[38;5;28;43mself\u001b[39;49m\u001b[43m.\u001b[49m\u001b[43m_options_values\u001b[49m\u001b[43m,\u001b[49m\u001b[43m \u001b[49m\u001b[43mvalue\u001b[49m\u001b[43m,\u001b[49m\u001b[43m \u001b[49m\u001b[38;5;28;43mself\u001b[39;49m\u001b[43m.\u001b[49m\u001b[43mequals\u001b[49m\u001b[43m)\u001b[49m \u001b[38;5;28;01mif\u001b[39;00m value \u001b[38;5;129;01mis\u001b[39;00m \u001b[38;5;129;01mnot\u001b[39;00m \u001b[38;5;28;01mNone\u001b[39;00m \u001b[38;5;28;01melse\u001b[39;00m \u001b[38;5;28;01mNone\u001b[39;00m\n\u001b[32m    243\u001b[39m \u001b[38;5;28;01mexcept\u001b[39;00m \u001b[38;5;167;01mValueError\u001b[39;00m:\n",
      "\u001b[36mFile \u001b[39m\u001b[32m/opt/bitnami/python/lib/python3.11/site-packages/ipywidgets/widgets/widget_selection.py:135\u001b[39m, in \u001b[36mfindvalue\u001b[39m\u001b[34m(array, value, compare)\u001b[39m\n\u001b[32m    134\u001b[39m \u001b[38;5;28;01mexcept\u001b[39;00m \u001b[38;5;167;01mStopIteration\u001b[39;00m:\n\u001b[32m--> \u001b[39m\u001b[32m135\u001b[39m     \u001b[38;5;28;01mraise\u001b[39;00m \u001b[38;5;167;01mValueError\u001b[39;00m(\u001b[33m'\u001b[39m\u001b[38;5;132;01m%r\u001b[39;00m\u001b[33m not in array\u001b[39m\u001b[33m'\u001b[39m%value)\n",
      "\u001b[31mValueError\u001b[39m: 'statements' not in array",
      "\nDuring handling of the above exception, another exception occurred:\n",
      "\u001b[31mTraitError\u001b[39m                                Traceback (most recent call last)",
      "\u001b[36mCell\u001b[39m\u001b[36m \u001b[39m\u001b[32mIn[3]\u001b[39m\u001b[32m, line 41\u001b[39m\n\u001b[32m     38\u001b[39m     \u001b[38;5;28;01mreturn\u001b[39;00m HTML(html + results_html)\n\u001b[32m     40\u001b[39m \u001b[38;5;66;03m# Create interactive widgets\u001b[39;00m\n\u001b[32m---> \u001b[39m\u001b[32m41\u001b[39m table_widget = \u001b[43mwidgets\u001b[49m\u001b[43m.\u001b[49m\u001b[43mDropdown\u001b[49m\u001b[43m(\u001b[49m\n\u001b[32m     42\u001b[39m \u001b[43m    \u001b[49m\u001b[43moptions\u001b[49m\u001b[43m=\u001b[49m\u001b[38;5;28;43mlist\u001b[39;49m\u001b[43m(\u001b[49m\u001b[43mdataframes\u001b[49m\u001b[43m.\u001b[49m\u001b[43mkeys\u001b[49m\u001b[43m(\u001b[49m\u001b[43m)\u001b[49m\u001b[43m)\u001b[49m\u001b[43m,\u001b[49m\n\u001b[32m     43\u001b[39m \u001b[43m    \u001b[49m\u001b[43mvalue\u001b[49m\u001b[43m=\u001b[49m\u001b[33;43m'\u001b[39;49m\u001b[33;43mstatements\u001b[39;49m\u001b[33;43m'\u001b[39;49m\u001b[43m,\u001b[49m\n\u001b[32m     44\u001b[39m \u001b[43m    \u001b[49m\u001b[43mdescription\u001b[49m\u001b[43m=\u001b[49m\u001b[33;43m'\u001b[39;49m\u001b[33;43mTable:\u001b[39;49m\u001b[33;43m'\u001b[39;49m\n\u001b[32m     45\u001b[39m \u001b[43m)\u001b[49m\n\u001b[32m     47\u001b[39m search_widget = widgets.Text(\n\u001b[32m     48\u001b[39m     placeholder=\u001b[33m'\u001b[39m\u001b[33mEnter search term...\u001b[39m\u001b[33m'\u001b[39m,\n\u001b[32m     49\u001b[39m     description=\u001b[33m'\u001b[39m\u001b[33mSearch:\u001b[39m\u001b[33m'\u001b[39m\n\u001b[32m     50\u001b[39m )\n\u001b[32m     52\u001b[39m column_widget = widgets.Dropdown(\n\u001b[32m     53\u001b[39m     options=[\u001b[33m'\u001b[39m\u001b[33mall\u001b[39m\u001b[33m'\u001b[39m],\n\u001b[32m     54\u001b[39m     value=\u001b[33m'\u001b[39m\u001b[33mall\u001b[39m\u001b[33m'\u001b[39m,\n\u001b[32m     55\u001b[39m     description=\u001b[33m'\u001b[39m\u001b[33mColumn:\u001b[39m\u001b[33m'\u001b[39m\n\u001b[32m     56\u001b[39m )\n",
      "\u001b[36mFile \u001b[39m\u001b[32m/opt/bitnami/python/lib/python3.11/site-packages/ipywidgets/widgets/widget_selection.py:186\u001b[39m, in \u001b[36m_Selection.__init__\u001b[39m\u001b[34m(self, *args, **kwargs)\u001b[39m\n\u001b[32m    183\u001b[39m     kwargs[\u001b[33m'\u001b[39m\u001b[33mindex\u001b[39m\u001b[33m'\u001b[39m] = \u001b[32m0\u001b[39m \u001b[38;5;28;01mif\u001b[39;00m nonempty \u001b[38;5;28;01melse\u001b[39;00m \u001b[38;5;28;01mNone\u001b[39;00m\n\u001b[32m    184\u001b[39m     kwargs[\u001b[33m'\u001b[39m\u001b[33mlabel\u001b[39m\u001b[33m'\u001b[39m], kwargs[\u001b[33m'\u001b[39m\u001b[33mvalue\u001b[39m\u001b[33m'\u001b[39m] = options[\u001b[32m0\u001b[39m] \u001b[38;5;28;01mif\u001b[39;00m nonempty \u001b[38;5;28;01melse\u001b[39;00m (\u001b[38;5;28;01mNone\u001b[39;00m, \u001b[38;5;28;01mNone\u001b[39;00m)\n\u001b[32m--> \u001b[39m\u001b[32m186\u001b[39m \u001b[38;5;28;43msuper\u001b[39;49m\u001b[43m(\u001b[49m\u001b[43m)\u001b[49m\u001b[43m.\u001b[49m\u001b[34;43m__init__\u001b[39;49m\u001b[43m(\u001b[49m\u001b[43m*\u001b[49m\u001b[43margs\u001b[49m\u001b[43m,\u001b[49m\u001b[43m \u001b[49m\u001b[43m*\u001b[49m\u001b[43m*\u001b[49m\u001b[43mkwargs\u001b[49m\u001b[43m)\u001b[49m\n\u001b[32m    187\u001b[39m \u001b[38;5;28mself\u001b[39m._initializing_traits_ = \u001b[38;5;28;01mFalse\u001b[39;00m\n",
      "\u001b[36mFile \u001b[39m\u001b[32m/opt/bitnami/python/lib/python3.11/site-packages/ipywidgets/widgets/widget_description.py:35\u001b[39m, in \u001b[36mDescriptionWidget.__init__\u001b[39m\u001b[34m(self, *args, **kwargs)\u001b[39m\n\u001b[32m     33\u001b[39m     kwargs.setdefault(\u001b[33m'\u001b[39m\u001b[33mtooltip\u001b[39m\u001b[33m'\u001b[39m, kwargs[\u001b[33m'\u001b[39m\u001b[33mdescription_tooltip\u001b[39m\u001b[33m'\u001b[39m])\n\u001b[32m     34\u001b[39m     \u001b[38;5;28;01mdel\u001b[39;00m kwargs[\u001b[33m'\u001b[39m\u001b[33mdescription_tooltip\u001b[39m\u001b[33m'\u001b[39m]\n\u001b[32m---> \u001b[39m\u001b[32m35\u001b[39m \u001b[38;5;28;43msuper\u001b[39;49m\u001b[43m(\u001b[49m\u001b[43m)\u001b[49m\u001b[43m.\u001b[49m\u001b[34;43m__init__\u001b[39;49m\u001b[43m(\u001b[49m\u001b[43m*\u001b[49m\u001b[43margs\u001b[49m\u001b[43m,\u001b[49m\u001b[43m \u001b[49m\u001b[43m*\u001b[49m\u001b[43m*\u001b[49m\u001b[43mkwargs\u001b[49m\u001b[43m)\u001b[49m\n",
      "\u001b[36mFile \u001b[39m\u001b[32m/opt/bitnami/python/lib/python3.11/site-packages/ipywidgets/widgets/widget.py:503\u001b[39m, in \u001b[36mWidget.__init__\u001b[39m\u001b[34m(self, **kwargs)\u001b[39m\n\u001b[32m    501\u001b[39m \u001b[38;5;250m\u001b[39m\u001b[33;03m\"\"\"Public constructor\"\"\"\u001b[39;00m\n\u001b[32m    502\u001b[39m \u001b[38;5;28mself\u001b[39m._model_id = kwargs.pop(\u001b[33m'\u001b[39m\u001b[33mmodel_id\u001b[39m\u001b[33m'\u001b[39m, \u001b[38;5;28;01mNone\u001b[39;00m)\n\u001b[32m--> \u001b[39m\u001b[32m503\u001b[39m \u001b[38;5;28;43msuper\u001b[39;49m\u001b[43m(\u001b[49m\u001b[43m)\u001b[49m\u001b[43m.\u001b[49m\u001b[34;43m__init__\u001b[39;49m\u001b[43m(\u001b[49m\u001b[43m*\u001b[49m\u001b[43m*\u001b[49m\u001b[43mkwargs\u001b[49m\u001b[43m)\u001b[49m\n\u001b[32m    505\u001b[39m Widget._call_widget_constructed(\u001b[38;5;28mself\u001b[39m)\n\u001b[32m    506\u001b[39m \u001b[38;5;28mself\u001b[39m.open()\n",
      "\u001b[36mFile \u001b[39m\u001b[32m/opt/bitnami/python/lib/python3.11/site-packages/traitlets/traitlets.py:1369\u001b[39m, in \u001b[36mHasTraits.__init__\u001b[39m\u001b[34m(self, *args, **kwargs)\u001b[39m\n\u001b[32m   1367\u001b[39m changed = \u001b[38;5;28mset\u001b[39m(kwargs) & \u001b[38;5;28mset\u001b[39m(\u001b[38;5;28mself\u001b[39m._traits)\n\u001b[32m   1368\u001b[39m \u001b[38;5;28;01mfor\u001b[39;00m key \u001b[38;5;129;01min\u001b[39;00m changed:\n\u001b[32m-> \u001b[39m\u001b[32m1369\u001b[39m     value = \u001b[38;5;28;43mself\u001b[39;49m\u001b[43m.\u001b[49m\u001b[43m_traits\u001b[49m\u001b[43m[\u001b[49m\u001b[43mkey\u001b[49m\u001b[43m]\u001b[49m\u001b[43m.\u001b[49m\u001b[43m_cross_validate\u001b[49m\u001b[43m(\u001b[49m\u001b[38;5;28;43mself\u001b[39;49m\u001b[43m,\u001b[49m\u001b[43m \u001b[49m\u001b[38;5;28;43mgetattr\u001b[39;49m\u001b[43m(\u001b[49m\u001b[38;5;28;43mself\u001b[39;49m\u001b[43m,\u001b[49m\u001b[43m \u001b[49m\u001b[43mkey\u001b[49m\u001b[43m)\u001b[49m\u001b[43m)\u001b[49m\n\u001b[32m   1370\u001b[39m     \u001b[38;5;28mself\u001b[39m.set_trait(key, value)\n\u001b[32m   1371\u001b[39m     changes[key][\u001b[33m\"\u001b[39m\u001b[33mnew\u001b[39m\u001b[33m\"\u001b[39m] = value\n",
      "\u001b[36mFile \u001b[39m\u001b[32m/opt/bitnami/python/lib/python3.11/site-packages/traitlets/traitlets.py:730\u001b[39m, in \u001b[36mTraitType._cross_validate\u001b[39m\u001b[34m(self, obj, value)\u001b[39m\n\u001b[32m    728\u001b[39m \u001b[38;5;28;01mif\u001b[39;00m \u001b[38;5;28mself\u001b[39m.name \u001b[38;5;129;01min\u001b[39;00m obj._trait_validators:\n\u001b[32m    729\u001b[39m     proposal = Bunch({\u001b[33m\"\u001b[39m\u001b[33mtrait\u001b[39m\u001b[33m\"\u001b[39m: \u001b[38;5;28mself\u001b[39m, \u001b[33m\"\u001b[39m\u001b[33mvalue\u001b[39m\u001b[33m\"\u001b[39m: value, \u001b[33m\"\u001b[39m\u001b[33mowner\u001b[39m\u001b[33m\"\u001b[39m: obj})\n\u001b[32m--> \u001b[39m\u001b[32m730\u001b[39m     value = \u001b[43mobj\u001b[49m\u001b[43m.\u001b[49m\u001b[43m_trait_validators\u001b[49m\u001b[43m[\u001b[49m\u001b[38;5;28;43mself\u001b[39;49m\u001b[43m.\u001b[49m\u001b[43mname\u001b[49m\u001b[43m]\u001b[49m\u001b[43m(\u001b[49m\u001b[43mobj\u001b[49m\u001b[43m,\u001b[49m\u001b[43m \u001b[49m\u001b[43mproposal\u001b[49m\u001b[43m)\u001b[49m\n\u001b[32m    731\u001b[39m \u001b[38;5;28;01melif\u001b[39;00m \u001b[38;5;28mhasattr\u001b[39m(obj, \u001b[33m\"\u001b[39m\u001b[33m_\u001b[39m\u001b[38;5;132;01m%s\u001b[39;00m\u001b[33m_validate\u001b[39m\u001b[33m\"\u001b[39m % \u001b[38;5;28mself\u001b[39m.name):\n\u001b[32m    732\u001b[39m     meth_name = \u001b[33m\"\u001b[39m\u001b[33m_\u001b[39m\u001b[38;5;132;01m%s\u001b[39;00m\u001b[33m_validate\u001b[39m\u001b[33m\"\u001b[39m % \u001b[38;5;28mself\u001b[39m.name\n",
      "\u001b[36mFile \u001b[39m\u001b[32m/opt/bitnami/python/lib/python3.11/site-packages/traitlets/traitlets.py:1241\u001b[39m, in \u001b[36mEventHandler.__call__\u001b[39m\u001b[34m(self, *args, **kwargs)\u001b[39m\n\u001b[32m   1239\u001b[39m \u001b[38;5;250m\u001b[39m\u001b[33;03m\"\"\"Pass `*args` and `**kwargs` to the handler's function if it exists.\"\"\"\u001b[39;00m\n\u001b[32m   1240\u001b[39m \u001b[38;5;28;01mif\u001b[39;00m \u001b[38;5;28mhasattr\u001b[39m(\u001b[38;5;28mself\u001b[39m, \u001b[33m\"\u001b[39m\u001b[33mfunc\u001b[39m\u001b[33m\"\u001b[39m):\n\u001b[32m-> \u001b[39m\u001b[32m1241\u001b[39m     \u001b[38;5;28;01mreturn\u001b[39;00m \u001b[38;5;28;43mself\u001b[39;49m\u001b[43m.\u001b[49m\u001b[43mfunc\u001b[49m\u001b[43m(\u001b[49m\u001b[43m*\u001b[49m\u001b[43margs\u001b[49m\u001b[43m,\u001b[49m\u001b[43m \u001b[49m\u001b[43m*\u001b[49m\u001b[43m*\u001b[49m\u001b[43mkwargs\u001b[49m\u001b[43m)\u001b[49m\n\u001b[32m   1242\u001b[39m \u001b[38;5;28;01melse\u001b[39;00m:\n\u001b[32m   1243\u001b[39m     \u001b[38;5;28;01mreturn\u001b[39;00m \u001b[38;5;28mself\u001b[39m._init_call(*args, **kwargs)\n",
      "\u001b[36mFile \u001b[39m\u001b[32m/opt/bitnami/python/lib/python3.11/site-packages/ipywidgets/widgets/widget_selection.py:244\u001b[39m, in \u001b[36m_Selection._validate_value\u001b[39m\u001b[34m(self, proposal)\u001b[39m\n\u001b[32m    242\u001b[39m     \u001b[38;5;28;01mreturn\u001b[39;00m findvalue(\u001b[38;5;28mself\u001b[39m._options_values, value, \u001b[38;5;28mself\u001b[39m.equals) \u001b[38;5;28;01mif\u001b[39;00m value \u001b[38;5;129;01mis\u001b[39;00m \u001b[38;5;129;01mnot\u001b[39;00m \u001b[38;5;28;01mNone\u001b[39;00m \u001b[38;5;28;01melse\u001b[39;00m \u001b[38;5;28;01mNone\u001b[39;00m\n\u001b[32m    243\u001b[39m \u001b[38;5;28;01mexcept\u001b[39;00m \u001b[38;5;167;01mValueError\u001b[39;00m:\n\u001b[32m--> \u001b[39m\u001b[32m244\u001b[39m     \u001b[38;5;28;01mraise\u001b[39;00m TraitError(\u001b[33m'\u001b[39m\u001b[33mInvalid selection: value not found\u001b[39m\u001b[33m'\u001b[39m)\n",
      "\u001b[31mTraitError\u001b[39m: Invalid selection: value not found"
     ]
    }
   ],
   "source": [
    "# Create search interface\n",
    "def search_data(table, search_term, column='all', max_results=50):\n",
    "    \"\"\"Search for a term in the specified table and column\"\"\"\n",
    "    if not search_term:\n",
    "        return \"Enter a search term\"\n",
    "    \n",
    "    df = dataframes[table]\n",
    "    \n",
    "    # Convert search term to lowercase for case-insensitive search\n",
    "    search_term = search_term.lower()\n",
    "    \n",
    "    if column == 'all':\n",
    "        # Search across all string columns\n",
    "        mask = pd.Series([False] * len(df))\n",
    "        for col in df.columns:\n",
    "            if df[col].dtype == 'object':\n",
    "                mask |= df[col].astype(str).str.lower().str.contains(search_term, na=False)\n",
    "    else:\n",
    "        # Search specific column\n",
    "        mask = df[column].astype(str).str.lower().str.contains(search_term, na=False)\n",
    "    \n",
    "    results = df[mask].head(max_results)\n",
    "    \n",
    "    if len(results) == 0:\n",
    "        return f\"No results found for '{search_term}' in {table}\"\n",
    "    \n",
    "    # Display results with highlighting\n",
    "    html = f\"<h3>Found {len(df[mask])} results (showing first {len(results)})</h3>\"\n",
    "    html += f\"<p><em>{table_info[table]}</em></p>\"\n",
    "    \n",
    "    # Convert to HTML and highlight search term\n",
    "    results_html = results.to_html()\n",
    "    # Simple highlighting (case-insensitive)\n",
    "    import re\n",
    "    pattern = re.compile(re.escape(search_term), re.IGNORECASE)\n",
    "    results_html = pattern.sub(lambda m: f'<mark style=\"background-color: yellow\">{m.group()}</mark>', results_html)\n",
    "    \n",
    "    return HTML(html + results_html)\n",
    "\n",
    "# Create interactive widgets\n",
    "table_widget = widgets.Dropdown(\n",
    "    options=list(dataframes.keys()),\n",
    "    value='statements',\n",
    "    description='Table:'\n",
    ")\n",
    "\n",
    "search_widget = widgets.Text(\n",
    "    placeholder='Enter search term...',\n",
    "    description='Search:'\n",
    ")\n",
    "\n",
    "column_widget = widgets.Dropdown(\n",
    "    options=['all'],\n",
    "    value='all',\n",
    "    description='Column:'\n",
    ")\n",
    "\n",
    "max_results_widget = widgets.IntSlider(\n",
    "    value=50,\n",
    "    min=10,\n",
    "    max=200,\n",
    "    step=10,\n",
    "    description='Max Results:'\n",
    ")\n",
    "\n",
    "# Update column options when table changes\n",
    "def update_columns(*args):\n",
    "    column_widget.options = ['all'] + list(dataframes[table_widget.value].columns)\n",
    "    \n",
    "table_widget.observe(update_columns, 'value')\n",
    "update_columns()  # Initialize\n",
    "\n",
    "# Create search interface\n",
    "out = widgets.interactive_output(\n",
    "    search_data, \n",
    "    {\n",
    "        'table': table_widget, \n",
    "        'search_term': search_widget,\n",
    "        'column': column_widget,\n",
    "        'max_results': max_results_widget\n",
    "    }\n",
    ")\n",
    "\n",
    "display(widgets.VBox([\n",
    "    widgets.HBox([table_widget, column_widget]),\n",
    "    search_widget,\n",
    "    max_results_widget,\n",
    "    out\n",
    "]))"
   ]
  },
  {
   "cell_type": "markdown",
   "metadata": {},
   "source": [
    "## Quick Search Functions\n",
    "\n",
    "Pre-built searches for common queries:"
   ]
  },
  {
   "cell_type": "code",
   "execution_count": 4,
   "metadata": {},
   "outputs": [
    {
     "name": "stdout",
     "output_type": "stream",
     "text": [
      "Searching for SEED compounds...\n"
     ]
    }
   ],
   "source": [
    "def find_seed_entries(compound_id=None, reaction_id=None, role_id=None):\n",
    "    \"\"\"Find SEED database entries\"\"\"\n",
    "    results = {}\n",
    "    \n",
    "    # Search patterns\n",
    "    patterns = []\n",
    "    if compound_id:\n",
    "        patterns.append(f\"seed.compound:{compound_id}\")\n",
    "    if reaction_id:\n",
    "        patterns.append(f\"seed.reaction:{reaction_id}\")\n",
    "    if role_id:\n",
    "        patterns.append(f\"seed.role:{role_id}\")\n",
    "    \n",
    "    if not patterns:\n",
    "        patterns = ['seed.compound', 'seed.reaction', 'seed.role']\n",
    "    \n",
    "    for pattern in patterns:\n",
    "        for table_name, df in dataframes.items():\n",
    "            mask = pd.Series([False] * len(df))\n",
    "            for col in df.columns:\n",
    "                if df[col].dtype == 'object':\n",
    "                    mask |= df[col].astype(str).str.contains(pattern, na=False, case=False)\n",
    "            \n",
    "            found = df[mask]\n",
    "            if len(found) > 0:\n",
    "                if table_name not in results:\n",
    "                    results[table_name] = pd.DataFrame()\n",
    "                results[table_name] = pd.concat([results[table_name], found]).drop_duplicates()\n",
    "    \n",
    "    return results\n",
    "\n",
    "# Example: Find all seed.compound entries\n",
    "print(\"Searching for SEED compounds...\")\n",
    "seed_results = find_seed_entries(compound_id='cpd')\n",
    "for table, df in seed_results.items():\n",
    "    if len(df) > 0:\n",
    "        print(f\"\\n{table}: {len(df)} entries\")\n",
    "        display(df.head())"
   ]
  },
  {
   "cell_type": "code",
   "execution_count": 5,
   "metadata": {},
   "outputs": [
    {
     "name": "stdout",
     "output_type": "stream",
     "text": [
      "Searching for EC numbers starting with 2.8...\n"
     ]
    }
   ],
   "source": [
    "def find_ec_numbers(ec_pattern=None):\n",
    "    \"\"\"Find Enzyme Commission (EC) numbers\"\"\"\n",
    "    results = {}\n",
    "    \n",
    "    # EC number pattern (e.g., EC:1.1.1.1)\n",
    "    if ec_pattern:\n",
    "        pattern = f\"EC:{ec_pattern}\"\n",
    "    else:\n",
    "        pattern = \"EC:\"\n",
    "    \n",
    "    for table_name, df in dataframes.items():\n",
    "        mask = pd.Series([False] * len(df))\n",
    "        for col in df.columns:\n",
    "            if df[col].dtype == 'object':\n",
    "                mask |= df[col].astype(str).str.contains(pattern, na=False)\n",
    "        \n",
    "        found = df[mask]\n",
    "        if len(found) > 0:\n",
    "            results[table_name] = found\n",
    "    \n",
    "    return results\n",
    "\n",
    "# Example: Find specific EC class\n",
    "print(\"Searching for EC numbers starting with 2.8...\")\n",
    "ec_results = find_ec_numbers(\"2.8\")\n",
    "for table, df in ec_results.items():\n",
    "    print(f\"\\n{table}: {len(df)} entries\")\n",
    "    display(df.head(3))"
   ]
  },
  {
   "cell_type": "code",
   "execution_count": 6,
   "metadata": {},
   "outputs": [
    {
     "name": "stdout",
     "output_type": "stream",
     "text": [
      "Searching for NCBI Taxonomy entries...\n"
     ]
    }
   ],
   "source": [
    "def find_ncbi_taxa(taxon_id=None, search_term=None):\n",
    "    \"\"\"Find NCBI Taxonomy entries\"\"\"\n",
    "    results = {}\n",
    "    \n",
    "    if taxon_id:\n",
    "        pattern = f\"NCBITaxon:{taxon_id}\"\n",
    "    elif search_term:\n",
    "        pattern = search_term\n",
    "    else:\n",
    "        pattern = \"NCBITaxon:\"\n",
    "    \n",
    "    for table_name, df in dataframes.items():\n",
    "        mask = pd.Series([False] * len(df))\n",
    "        for col in df.columns:\n",
    "            if df[col].dtype == 'object':\n",
    "                mask |= df[col].astype(str).str.contains(pattern, na=False, case=False)\n",
    "        \n",
    "        found = df[mask]\n",
    "        if len(found) > 0:\n",
    "            results[table_name] = found\n",
    "    \n",
    "    return results\n",
    "\n",
    "# Example usage\n",
    "print(\"Searching for NCBI Taxonomy entries...\")\n",
    "taxa_results = find_ncbi_taxa()\n",
    "for table, df in taxa_results.items():\n",
    "    print(f\"\\n{table}: {len(df)} entries with NCBI Taxon IDs\")\n",
    "    # Show unique subjects if applicable\n",
    "    if 'subject' in df.columns:\n",
    "        unique_taxa = df['subject'].str.extract(r'(NCBITaxon:\\d+)')[0].dropna().unique()\n",
    "        print(f\"  Unique taxa: {len(unique_taxa)}\")\n",
    "        print(f\"  Examples: {list(unique_taxa[:5])}\")"
   ]
  },
  {
   "cell_type": "markdown",
   "metadata": {},
   "source": [
    "## Data Statistics Dashboard"
   ]
  },
  {
   "cell_type": "code",
   "execution_count": 7,
   "metadata": {},
   "outputs": [
    {
     "data": {
      "text/html": [
       "<h2>Data Tables Summary</h2>"
      ],
      "text/plain": [
       "<IPython.core.display.HTML object>"
      ]
     },
     "execution_count": 7,
     "metadata": {},
     "output_type": "execute_result"
    }
   ],
   "source": [
    "# Create a summary dashboard\n",
    "def create_data_summary():\n",
    "    \"\"\"Create a summary of all data tables\"\"\"\n",
    "    summary_html = \"<h2>Data Tables Summary</h2>\"\n",
    "    \n",
    "    for name, df in dataframes.items():\n",
    "        summary_html += f\"<h3>{name}</h3>\"\n",
    "        summary_html += f\"<p><em>{table_info[name]}</em></p>\"\n",
    "        summary_html += \"<ul>\"\n",
    "        summary_html += f\"<li>Columns: {', '.join(df.columns)}</li>\"\n",
    "        \n",
    "        # Column statistics\n",
    "        for col in df.columns:\n",
    "            if df[col].dtype == 'object':\n",
    "                unique_vals = df[col].nunique()\n",
    "                summary_html += f\"<li>{col}: {unique_vals:,} unique values</li>\"\n",
    "        \n",
    "        summary_html += \"</ul>\"\n",
    "        \n",
    "        # Show sample\n",
    "        summary_html += \"<details><summary>View sample data</summary>\"\n",
    "        summary_html += df.head(3).to_html()\n",
    "        summary_html += \"</details><br>\"\n",
    "    \n",
    "    return HTML(summary_html)\n",
    "\n",
    "create_data_summary()"
   ]
  },
  {
   "cell_type": "markdown",
   "metadata": {},
   "source": [
    "## Export Search Results"
   ]
  },
  {
   "cell_type": "code",
   "execution_count": 8,
   "metadata": {},
   "outputs": [],
   "source": [
    "def export_search_results(search_term, output_file='search_results.csv'):\n",
    "    \"\"\"Export all search results to a CSV file\"\"\"\n",
    "    all_results = []\n",
    "    \n",
    "    for table_name, df in dataframes.items():\n",
    "        mask = pd.Series([False] * len(df))\n",
    "        for col in df.columns:\n",
    "            if df[col].dtype == 'object':\n",
    "                mask |= df[col].astype(str).str.contains(search_term, na=False, case=False)\n",
    "        \n",
    "        results = df[mask].copy()\n",
    "        if len(results) > 0:\n",
    "            results['source_table'] = table_name\n",
    "            all_results.append(results)\n",
    "    \n",
    "    if all_results:\n",
    "        combined = pd.concat(all_results, ignore_index=True)\n",
    "        combined.to_csv(output_file, index=False)\n",
    "        print(f\"Exported {len(combined)} results to {output_file}\")\n",
    "        return combined\n",
    "    else:\n",
    "        print(\"No results found\")\n",
    "        return None\n",
    "\n",
    "# Example: Export all SEED compound references\n",
    "# export_search_results('seed.compound', 'seed_compounds.csv')"
   ]
  },
  {
   "cell_type": "code",
   "execution_count": null,
   "metadata": {},
   "outputs": [],
   "source": []
  },
  {
   "cell_type": "code",
   "execution_count": null,
   "metadata": {},
   "outputs": [],
   "source": []
  },
  {
   "cell_type": "code",
   "execution_count": null,
   "metadata": {},
   "outputs": [],
   "source": []
  },
  {
   "cell_type": "code",
   "execution_count": null,
   "metadata": {},
   "outputs": [],
   "source": []
  },
  {
   "cell_type": "code",
   "execution_count": null,
   "metadata": {},
   "outputs": [],
   "source": []
  }
 ],
 "metadata": {
  "kernelspec": {
   "display_name": "Python 3 (ipykernel)",
   "language": "python",
   "name": "python3"
  },
  "language_info": {
   "codemirror_mode": {
    "name": "ipython",
    "version": 3
   },
   "file_extension": ".py",
   "mimetype": "text/x-python",
   "name": "python",
   "nbconvert_exporter": "python",
   "pygments_lexer": "ipython3",
   "version": "3.11.9"
  }
 },
 "nbformat": 4,
 "nbformat_minor": 4
}
