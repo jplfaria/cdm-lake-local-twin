{
 "cells": [
  {
   "cell_type": "markdown",
   "metadata": {},
   "source": [
    "# Interactive Search for CDM Ontology Data\n",
    "\n",
    "This notebook provides interactive search capabilities for the CDM ontology data loaded in the warehouse.\n",
    "Each table has its own section with search widgets."
   ]
  },
  {
   "cell_type": "code",
   "execution_count": 7,
   "metadata": {},
   "outputs": [],
   "source": [
    "# Setup - Import required libraries and initialize Spark\n",
    "from spark.utils import get_spark_session\n",
    "import ipywidgets as widgets\n",
    "from IPython.display import display, HTML\n",
    "import pandas as pd\n",
    "\n",
    "spark = get_spark_session()\n",
    "namespace = 'ontology_data'\n",
    "\n",
    "# Helper function to display search results\n",
    "def display_results(df, max_rows=100):\n",
    "    \"\"\"Display dataframe results with nice formatting\"\"\"\n",
    "    if df.empty:\n",
    "        print(\"No results found.\")\n",
    "    else:\n",
    "        print(f\"Found {len(df)} results (showing up to {max_rows}):\")\n",
    "        display(df.head(max_rows))"
   ]
  },
  {
   "cell_type": "markdown",
   "metadata": {},
   "source": [
    "## 1. Statements Table Search\n",
    "\n",
    "Search through 42.4M ontology statements (RDF triples)"
   ]
  },
  {
   "cell_type": "code",
   "execution_count": 8,
   "metadata": {},
   "outputs": [
    {
     "name": "stdout",
     "output_type": "stream",
     "text": [
      "Loading statements table...\n",
      "Statements table loaded. Schema:\n",
      "root\n",
      " |-- stanza: string (nullable = true)\n",
      " |-- subject: string (nullable = true)\n",
      " |-- predicate: string (nullable = true)\n",
      " |-- object: string (nullable = true)\n",
      " |-- value: string (nullable = true)\n",
      " |-- datatype: string (nullable = true)\n",
      " |-- language: string (nullable = true)\n",
      " |-- graph: integer (nullable = true)\n",
      "\n"
     ]
    },
    {
     "data": {
      "application/vnd.jupyter.widget-view+json": {
       "model_id": "7d22cb7a08fa48219fd8d2437b3b2ece",
       "version_major": 2,
       "version_minor": 0
      },
      "text/plain": [
       "HBox(children=(Text(value='', description='Search:', placeholder='Enter search term', style=TextStyle(descript…"
      ]
     },
     "metadata": {},
     "output_type": "display_data"
    },
    {
     "data": {
      "application/vnd.jupyter.widget-view+json": {
       "model_id": "deb79f86b68c46d1bc472694257e1c1f",
       "version_major": 2,
       "version_minor": 0
      },
      "text/plain": [
       "Button(button_style='primary', description='Search Statements', icon='search', style=ButtonStyle())"
      ]
     },
     "metadata": {},
     "output_type": "display_data"
    },
    {
     "data": {
      "application/vnd.jupyter.widget-view+json": {
       "model_id": "a3ef287452d041d28817ea069b49089a",
       "version_major": 2,
       "version_minor": 0
      },
      "text/plain": [
       "Output()"
      ]
     },
     "metadata": {},
     "output_type": "display_data"
    }
   ],
   "source": [
    "# Load statements table\n",
    "print(\"Loading statements table...\")\n",
    "statements_df = spark.table(f\"{namespace}.statements\")\n",
    "print(f\"Statements table loaded. Schema:\")\n",
    "statements_df.printSchema()\n",
    "\n",
    "# Create search widgets for statements\n",
    "search_text = widgets.Text(\n",
    "    value='',\n",
    "    placeholder='Enter search term',\n",
    "    description='Search:',\n",
    "    style={'description_width': 'initial'}\n",
    ")\n",
    "\n",
    "search_column = widgets.Dropdown(\n",
    "    options=['subject', 'predicate', 'object', 'value', 'datatype', 'language'],\n",
    "    value='subject',\n",
    "    description='Column:',\n",
    "    style={'description_width': 'initial'}\n",
    ")\n",
    "\n",
    "limit_slider = widgets.IntSlider(\n",
    "    value=50,\n",
    "    min=10,\n",
    "    max=500,\n",
    "    step=10,\n",
    "    description='Limit:',\n",
    "    style={'description_width': 'initial'}\n",
    ")\n",
    "\n",
    "search_button = widgets.Button(\n",
    "    description='Search Statements',\n",
    "    button_style='primary',\n",
    "    icon='search'\n",
    ")\n",
    "\n",
    "output = widgets.Output()\n",
    "\n",
    "def search_statements(b):\n",
    "    with output:\n",
    "        output.clear_output()\n",
    "        if search_text.value:\n",
    "            # Create SQL query\n",
    "            query = f\"\"\"\n",
    "            SELECT * \n",
    "            FROM {namespace}.statements\n",
    "            WHERE LOWER({search_column.value}) LIKE LOWER('%{search_text.value}%')\n",
    "            LIMIT {limit_slider.value}\n",
    "            \"\"\"\n",
    "            \n",
    "            print(f\"Searching for '{search_text.value}' in column '{search_column.value}'...\")\n",
    "            result_df = spark.sql(query).toPandas()\n",
    "            display_results(result_df, limit_slider.value)\n",
    "\n",
    "search_button.on_click(search_statements)\n",
    "\n",
    "# Display widgets\n",
    "display(widgets.HBox([search_text, search_column, limit_slider]))\n",
    "display(search_button)\n",
    "display(output)"
   ]
  },
  {
   "cell_type": "markdown",
   "metadata": {},
   "source": [
    "## 2. Entailed Edge Table Search\n",
    "\n",
    "Search through 117.5M inferred relationships"
   ]
  },
  {
   "cell_type": "code",
   "execution_count": null,
   "metadata": {},
   "outputs": [],
   "source": [
    "# Load entailed_edge table\n",
    "print(\"Loading entailed_edge table...\")\n",
    "entailed_edge_df = spark.table(f\"{namespace}.entailed_edge\")\n",
    "print(f\"Entailed edge table loaded. Schema:\")\n",
    "entailed_edge_df.printSchema()\n",
    "\n",
    "# Create search widgets for entailed_edge\n",
    "edge_search_text = widgets.Text(\n",
    "    value='',\n",
    "    placeholder='Enter search term',\n",
    "    description='Search:',\n",
    "    style={'description_width': 'initial'}\n",
    ")\n",
    "\n",
    "edge_search_column = widgets.Dropdown(\n",
    "    options=['subject', 'predicate', 'object'],\n",
    "    value='subject',\n",
    "    description='Column:',\n",
    "    style={'description_width': 'initial'}\n",
    ")\n",
    "\n",
    "edge_limit_slider = widgets.IntSlider(\n",
    "    value=50,\n",
    "    min=10,\n",
    "    max=500,\n",
    "    step=10,\n",
    "    description='Limit:',\n",
    "    style={'description_width': 'initial'}\n",
    ")\n",
    "\n",
    "edge_search_button = widgets.Button(\n",
    "    description='Search Edges',\n",
    "    button_style='primary',\n",
    "    icon='search'\n",
    ")\n",
    "\n",
    "edge_output = widgets.Output()\n",
    "\n",
    "def search_edges(b):\n",
    "    with edge_output:\n",
    "        edge_output.clear_output()\n",
    "        if edge_search_text.value:\n",
    "            # Create SQL query\n",
    "            query = f\"\"\"\n",
    "            SELECT * \n",
    "            FROM {namespace}.entailed_edge\n",
    "            WHERE LOWER({edge_search_column.value}) LIKE LOWER('%{edge_search_text.value}%')\n",
    "            LIMIT {edge_limit_slider.value}\n",
    "            \"\"\"\n",
    "            \n",
    "            print(f\"Searching for '{edge_search_text.value}' in column '{edge_search_column.value}'...\")\n",
    "            result_df = spark.sql(query).toPandas()\n",
    "            display_results(result_df, edge_limit_slider.value)\n",
    "\n",
    "edge_search_button.on_click(search_edges)\n",
    "\n",
    "# Display widgets\n",
    "display(widgets.HBox([edge_search_text, edge_search_column, edge_limit_slider]))\n",
    "display(edge_search_button)\n",
    "display(edge_output)"
   ]
  },
  {
   "cell_type": "markdown",
   "metadata": {},
   "source": [
    "## 3. Feature Annotation Table Search\n",
    "\n",
    "Search through 237K genomic features from 50 E. coli genomes"
   ]
  },
  {
   "cell_type": "code",
   "execution_count": 11,
   "metadata": {},
   "outputs": [
    {
     "name": "stdout",
     "output_type": "stream",
     "text": [
      "Loading feature_annotation table...\n",
      "Feature annotation table loaded. Schema:\n",
      "root\n",
      " |-- feature_id: string (nullable = true)\n",
      " |-- genome_id: string (nullable = true)\n",
      " |-- genome_ref: string (nullable = true)\n",
      " |-- genome_taxa: string (nullable = true)\n",
      " |-- protein_hash: string (nullable = true)\n",
      " |-- protein_seq: string (nullable = true)\n",
      " |-- rast: string (nullable = true)\n",
      " |-- bakta_ec: string (nullable = true)\n",
      " |-- bakta_gene: string (nullable = true)\n",
      " |-- bakta_product: string (nullable = true)\n",
      " |-- bakta_go: string (nullable = true)\n",
      " |-- bakta_cog: string (nullable = true)\n",
      " |-- bakta_refseq: double (nullable = true)\n",
      " |-- bakta_uniparc: double (nullable = true)\n",
      " |-- bakta_uniref: string (nullable = true)\n",
      "\n"
     ]
    },
    {
     "data": {
      "application/vnd.jupyter.widget-view+json": {
       "model_id": "3f20eadf62e34e9da04aca6cd411b69e",
       "version_major": 2,
       "version_minor": 0
      },
      "text/plain": [
       "HBox(children=(Text(value='', description='Search:', placeholder='Enter search term', style=TextStyle(descript…"
      ]
     },
     "metadata": {},
     "output_type": "display_data"
    },
    {
     "data": {
      "application/vnd.jupyter.widget-view+json": {
       "model_id": "b9ac4047450749589f6b028267fd604d",
       "version_major": 2,
       "version_minor": 0
      },
      "text/plain": [
       "HBox(children=(IntSlider(value=50, description='Limit:', max=500, min=10, step=10, style=SliderStyle(descripti…"
      ]
     },
     "metadata": {},
     "output_type": "display_data"
    },
    {
     "data": {
      "application/vnd.jupyter.widget-view+json": {
       "model_id": "840f19427154439dbf3bbe833bef83b8",
       "version_major": 2,
       "version_minor": 0
      },
      "text/plain": [
       "Output()"
      ]
     },
     "metadata": {},
     "output_type": "display_data"
    }
   ],
   "source": [
    "# Load feature_annotation table\n",
    "print(\"Loading feature_annotation table...\")\n",
    "feature_annotation_df = spark.table(f\"{namespace}.feature_annotation\")\n",
    "print(f\"Feature annotation table loaded. Schema:\")\n",
    "feature_annotation_df.printSchema()\n",
    "\n",
    "# Create search widgets for feature_annotation\n",
    "feature_search_text = widgets.Text(\n",
    "    value='',\n",
    "    placeholder='Enter search term',\n",
    "    description='Search:',\n",
    "    style={'description_width': 'initial'}\n",
    ")\n",
    "\n",
    "feature_search_column = widgets.Dropdown(\n",
    "    options=['feature_id', 'genome_id', 'genome_taxa', 'rast','bakta_type', 'bakta_gene', \n",
    "             'bakta_product', 'bakta_ec', 'bakta_go', 'bakta_cog_id', 'bakta_cog_category',\n",
    "             'bakta_interpro', 'bakta_uniref', 'protein_hash'],\n",
    "    value='bakta_product',\n",
    "    description='Column:',\n",
    "    style={'description_width': 'initial'}\n",
    ")\n",
    "\n",
    "feature_limit_slider = widgets.IntSlider(\n",
    "    value=50,\n",
    "    min=10,\n",
    "    max=500,\n",
    "    step=10,\n",
    "    description='Limit:',\n",
    "    style={'description_width': 'initial'}\n",
    ")\n",
    "\n",
    "feature_search_button = widgets.Button(\n",
    "    description='Search Features',\n",
    "    button_style='primary',\n",
    "    icon='search'\n",
    ")\n",
    "\n",
    "feature_output = widgets.Output()\n",
    "\n",
    "def search_features(b):\n",
    "    with feature_output:\n",
    "        feature_output.clear_output()\n",
    "        if feature_search_text.value:\n",
    "            # Create SQL query\n",
    "            query = f\"\"\"\n",
    "            SELECT * \n",
    "            FROM {namespace}.feature_annotation\n",
    "            WHERE LOWER({feature_search_column.value}) LIKE LOWER('%{feature_search_text.value}%')\n",
    "            LIMIT {feature_limit_slider.value}\n",
    "            \"\"\"\n",
    "            \n",
    "            print(f\"Searching for '{feature_search_text.value}' in column '{feature_search_column.value}'...\")\n",
    "            result_df = spark.sql(query).toPandas()\n",
    "            display_results(result_df, feature_limit_slider.value)\n",
    "\n",
    "feature_search_button.on_click(search_features)\n",
    "\n",
    "# Display widgets\n",
    "display(widgets.HBox([feature_search_text, feature_search_column]))\n",
    "display(widgets.HBox([feature_limit_slider, feature_search_button]))\n",
    "display(feature_output)"
   ]
  },
  {
   "cell_type": "markdown",
   "metadata": {},
   "source": [
    "## 4. Term Association Table Search\n",
    "\n",
    "Search through 3.3K enzyme-reaction mappings"
   ]
  },
  {
   "cell_type": "code",
   "execution_count": 14,
   "metadata": {},
   "outputs": [
    {
     "name": "stdout",
     "output_type": "stream",
     "text": [
      "Loading term_association table...\n",
      "Term association table loaded. Schema:\n",
      "root\n",
      " |-- id: string (nullable = true)\n",
      " |-- subject: string (nullable = true)\n",
      " |-- predicate: string (nullable = true)\n",
      " |-- object: string (nullable = true)\n",
      " |-- evidence_type: string (nullable = true)\n",
      " |-- publication: string (nullable = true)\n",
      " |-- source: string (nullable = true)\n",
      "\n"
     ]
    },
    {
     "data": {
      "application/vnd.jupyter.widget-view+json": {
       "model_id": "136490dbf4dc440ca1deda7b533eef04",
       "version_major": 2,
       "version_minor": 0
      },
      "text/plain": [
       "HBox(children=(Text(value='', description='Search:', placeholder='Enter search term', style=TextStyle(descript…"
      ]
     },
     "metadata": {},
     "output_type": "display_data"
    },
    {
     "data": {
      "application/vnd.jupyter.widget-view+json": {
       "model_id": "38d4dbaf473b49e3881fb29c90e89e08",
       "version_major": 2,
       "version_minor": 0
      },
      "text/plain": [
       "Button(button_style='primary', description='Search Terms', icon='search', style=ButtonStyle())"
      ]
     },
     "metadata": {},
     "output_type": "display_data"
    },
    {
     "data": {
      "application/vnd.jupyter.widget-view+json": {
       "model_id": "9347160c91344716b76dc984298d0b84",
       "version_major": 2,
       "version_minor": 0
      },
      "text/plain": [
       "Output()"
      ]
     },
     "metadata": {},
     "output_type": "display_data"
    }
   ],
   "source": [
    "# Load term_association table\n",
    "print(\"Loading term_association table...\")\n",
    "term_association_df = spark.table(f\"{namespace}.term_association\")\n",
    "print(f\"Term association table loaded. Schema:\")\n",
    "term_association_df.printSchema()\n",
    "\n",
    "# Create search widgets for term_association\n",
    "term_search_text = widgets.Text(\n",
    "    value='',\n",
    "    placeholder='Enter search term',\n",
    "    description='Search:',\n",
    "    style={'description_width': 'initial'}\n",
    ")\n",
    "\n",
    "term_search_column = widgets.Dropdown(\n",
    "    options=['id','subject', 'predicate', 'object'],\n",
    "    value='subject',\n",
    "    description='Column:',\n",
    "    style={'description_width': 'initial'}\n",
    ")\n",
    "\n",
    "term_limit_slider = widgets.IntSlider(\n",
    "    value=50,\n",
    "    min=10,\n",
    "    max=500,\n",
    "    step=10,\n",
    "    description='Limit:',\n",
    "    style={'description_width': 'initial'}\n",
    ")\n",
    "\n",
    "term_search_button = widgets.Button(\n",
    "    description='Search Terms',\n",
    "    button_style='primary',\n",
    "    icon='search'\n",
    ")\n",
    "\n",
    "term_output = widgets.Output()\n",
    "\n",
    "def search_terms(b):\n",
    "    with term_output:\n",
    "        term_output.clear_output()\n",
    "        if term_search_text.value:\n",
    "            # Create SQL query\n",
    "            query = f\"\"\"\n",
    "            SELECT * \n",
    "            FROM {namespace}.term_association\n",
    "            WHERE LOWER({term_search_column.value}) LIKE LOWER('%{term_search_text.value}%')\n",
    "            LIMIT {term_limit_slider.value}\n",
    "            \"\"\"\n",
    "            \n",
    "            print(f\"Searching for '{term_search_text.value}' in column '{term_search_column.value}'...\")\n",
    "            result_df = spark.sql(query).toPandas()\n",
    "            display_results(result_df, term_limit_slider.value)\n",
    "\n",
    "term_search_button.on_click(search_terms)\n",
    "\n",
    "# Display widgets\n",
    "display(widgets.HBox([term_search_text, term_search_column, term_limit_slider]))\n",
    "display(term_search_button)\n",
    "display(term_output)"
   ]
  },
  {
   "cell_type": "markdown",
   "metadata": {},
   "source": [
    "## Quick Reference\n",
    "\n",
    "### Available Tables:\n",
    "- **statements** (42.4M rows): Ontology statements (RDF triples)\n",
    "- **entailed_edge** (117.5M rows): Inferred relationships  \n",
    "- **feature_annotation** (237K rows): Genomic features from 50 E. coli genomes\n",
    "- **term_association** (3.3K rows): Enzyme-reaction mappings\n",
    "\n",
    "### Usage:\n",
    "1. Each table has its own search section with interactive widgets\n",
    "2. Select the column to search in from the dropdown\n",
    "3. Enter your search term and adjust the result limit\n",
    "4. Click the search button to execute the query\n",
    "5. Results will appear below each search widget"
   ]
  },
  {
   "cell_type": "markdown",
   "metadata": {},
   "source": [
    "## Example Searches"
   ]
  }
 ],
 "metadata": {
  "kernelspec": {
   "display_name": "Python 3 (ipykernel)",
   "language": "python",
   "name": "python3"
  },
  "language_info": {
   "codemirror_mode": {
    "name": "ipython",
    "version": 3
   },
   "file_extension": ".py",
   "mimetype": "text/x-python",
   "name": "python",
   "nbconvert_exporter": "python",
   "pygments_lexer": "ipython3",
   "version": "3.11.9"
  }
 },
 "nbformat": 4,
 "nbformat_minor": 4
}
