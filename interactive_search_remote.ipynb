{
 "cells": [
  {
   "cell_type": "markdown",
   "metadata": {},
   "source": [
    "# Interactive Data Search Tool (Remote Version)\n",
    "\n",
    "This notebook provides an interactive way to search through the CDM ontology data tables using Spark.\n",
    "\n",
    "**Note**: This version is designed to work on the remote JupyterHub with Spark tables."
   ]
  },
  {
   "cell_type": "code",
   "execution_count": 1,
   "metadata": {},
   "outputs": [
    {
     "name": "stderr",
     "output_type": "stream",
     "text": [
      "25/07/08 15:52:46 WARN NativeCodeLoader: Unable to load native-hadoop library for your platform... using builtin-java classes where applicable\n",
      "Setting default log level to \"WARN\".\n",
      "To adjust logging level use sc.setLogLevel(newLevel). For SparkR, use setLogLevel(newLevel).\n",
      "25/07/08 15:52:48 WARN Utils: Service 'SparkUI' could not bind on port 4040. Attempting port 4041.\n",
      "25/07/08 15:52:48 WARN Utils: Service 'SparkUI' could not bind on port 4041. Attempting port 4042.\n",
      "25/07/08 15:52:49 WARN MetricsConfig: Cannot locate configuration: tried hadoop-metrics2-s3a-file-system.properties,hadoop-metrics2.properties\n",
      "25/07/08 15:52:51 WARN S3ABlockOutputStream: Application invoked the Syncable API against stream writing to spark-job-logs/jplfaria/app-20250708155249-0013.inprogress. This is unsupported\n",
      "25/07/08 15:52:51 WARN Utils: spark.executor.instances less than spark.dynamicAllocation.minExecutors is invalid, ignoring its setting, please update your configs.\n"
     ]
    },
    {
     "name": "stdout",
     "output_type": "stream",
     "text": [
      "Spark session created successfully\n"
     ]
    }
   ],
   "source": [
    "from spark.utils import get_spark_session\n",
    "from IPython.display import display, HTML\n",
    "import pandas as pd\n",
    "import warnings\n",
    "warnings.filterwarnings('ignore')\n",
    "\n",
    "# Create Spark session\n",
    "spark = get_spark_session()\n",
    "namespace = 'ontology_data'\n",
    "\n",
    "print(\"Spark session created successfully\")"
   ]
  },
  {
   "cell_type": "markdown",
   "metadata": {},
   "source": [
    "## Check Available Tables"
   ]
  },
  {
   "cell_type": "code",
   "execution_count": 2,
   "metadata": {},
   "outputs": [
    {
     "name": "stdout",
     "output_type": "stream",
     "text": [
      "Available tables in ontology_data:\n"
     ]
    },
    {
     "name": "stderr",
     "output_type": "stream",
     "text": [
      "                                                                                "
     ]
    },
    {
     "name": "stdout",
     "output_type": "stream",
     "text": [
      "  - entailed_edge: 117,545,336 rows\n"
     ]
    },
    {
     "name": "stderr",
     "output_type": "stream",
     "text": [
      "                                                                                "
     ]
    },
    {
     "name": "stdout",
     "output_type": "stream",
     "text": [
      "  - feature_annotation: 236,843 rows\n"
     ]
    },
    {
     "name": "stderr",
     "output_type": "stream",
     "text": [
      "                                                                                "
     ]
    },
    {
     "name": "stdout",
     "output_type": "stream",
     "text": [
      "  - prefix: 1,221 rows\n"
     ]
    },
    {
     "name": "stderr",
     "output_type": "stream",
     "text": [
      "                                                                                "
     ]
    },
    {
     "name": "stdout",
     "output_type": "stream",
     "text": [
      "  - statements: 42,373,349 rows\n"
     ]
    },
    {
     "name": "stderr",
     "output_type": "stream",
     "text": [
      "[Stage 31:===================================================>    (46 + 1) / 50]"
     ]
    },
    {
     "name": "stdout",
     "output_type": "stream",
     "text": [
      "  - term_association: 3,271 rows\n"
     ]
    },
    {
     "name": "stderr",
     "output_type": "stream",
     "text": [
      "                                                                                "
     ]
    }
   ],
   "source": [
    "# List all tables in the namespace\n",
    "tables_df = spark.sql(f\"SHOW TABLES IN {namespace}\")\n",
    "tables = [row.tableName for row in tables_df.collect()]\n",
    "\n",
    "print(f\"Available tables in {namespace}:\")\n",
    "for table in tables:\n",
    "    count = spark.sql(f\"SELECT COUNT(*) as cnt FROM {namespace}.{table}\").collect()[0]['cnt']\n",
    "    print(f\"  - {table}: {count:,} rows\")"
   ]
  },
  {
   "cell_type": "markdown",
   "metadata": {},
   "source": [
    "## Interactive Search Functions\n",
    "\n",
    "These functions allow searching through Spark tables efficiently:"
   ]
  },
  {
   "cell_type": "code",
   "execution_count": 3,
   "metadata": {},
   "outputs": [],
   "source": [
    "def search_table(table_name, search_term, column=None, limit=100):\n",
    "    \"\"\"Search for a term in a specific table\"\"\"\n",
    "    \n",
    "    if column:\n",
    "        # Search specific column\n",
    "        query = f\"\"\"\n",
    "        SELECT * \n",
    "        FROM {namespace}.{table_name}\n",
    "        WHERE LOWER({column}) LIKE LOWER('%{search_term}%')\n",
    "        LIMIT {limit}\n",
    "        \"\"\"\n",
    "    else:\n",
    "        # Get columns for this table\n",
    "        cols = spark.sql(f\"SELECT * FROM {namespace}.{table_name} LIMIT 1\").columns\n",
    "        \n",
    "        # Build WHERE clause for all string columns\n",
    "        where_clauses = []\n",
    "        for col in cols:\n",
    "            where_clauses.append(f\"LOWER(CAST({col} AS STRING)) LIKE LOWER('%{search_term}%')\")\n",
    "        \n",
    "        where_condition = \" OR \".join(where_clauses)\n",
    "        \n",
    "        query = f\"\"\"\n",
    "        SELECT * \n",
    "        FROM {namespace}.{table_name}\n",
    "        WHERE {where_condition}\n",
    "        LIMIT {limit}\n",
    "        \"\"\"\n",
    "    \n",
    "    try:\n",
    "        results_df = spark.sql(query)\n",
    "        pandas_df = results_df.toPandas()\n",
    "        return pandas_df\n",
    "    except Exception as e:\n",
    "        print(f\"Error searching {table_name}: {e}\")\n",
    "        return pd.DataFrame()\n",
    "\n",
    "def search_all_tables(search_term, limit_per_table=50):\n",
    "    \"\"\"Search across all tables\"\"\"\n",
    "    all_results = {}\n",
    "    \n",
    "    for table in tables:\n",
    "        if table == 'prefix':  # Skip prefix table as requested\n",
    "            continue\n",
    "            \n",
    "        print(f\"Searching {table}...\")\n",
    "        results = search_table(table, search_term, limit=limit_per_table)\n",
    "        \n",
    "        if not results.empty:\n",
    "            all_results[table] = results\n",
    "            print(f\"  Found {len(results)} matches\")\n",
    "    \n",
    "    return all_results"
   ]
  },
  {
   "cell_type": "markdown",
   "metadata": {},
   "source": [
    "## Example Searches"
   ]
  },
  {
   "cell_type": "code",
   "execution_count": 4,
   "metadata": {},
   "outputs": [
    {
     "name": "stdout",
     "output_type": "stream",
     "text": [
      "Searching for 'glucose' across all tables...\n",
      "\n",
      "Searching entailed_edge...\n"
     ]
    },
    {
     "name": "stderr",
     "output_type": "stream",
     "text": [
      "                                                                                "
     ]
    },
    {
     "name": "stdout",
     "output_type": "stream",
     "text": [
      "  Found 20 matches\n",
      "Searching feature_annotation...\n"
     ]
    },
    {
     "name": "stderr",
     "output_type": "stream",
     "text": [
      "                                                                                "
     ]
    },
    {
     "name": "stdout",
     "output_type": "stream",
     "text": [
      "  Found 20 matches\n",
      "Searching statements...\n"
     ]
    },
    {
     "name": "stderr",
     "output_type": "stream",
     "text": [
      "                                                                                "
     ]
    },
    {
     "name": "stdout",
     "output_type": "stream",
     "text": [
      "  Found 20 matches\n",
      "Searching term_association...\n"
     ]
    },
    {
     "name": "stderr",
     "output_type": "stream",
     "text": [
      "                                                                                "
     ]
    },
    {
     "name": "stdout",
     "output_type": "stream",
     "text": [
      "  Found 20 matches\n",
      "\n",
      "============================================================\n",
      "Results from entailed_edge: 20 matches\n",
      "============================================================\n"
     ]
    },
    {
     "data": {
      "text/html": [
       "<div>\n",
       "<style scoped>\n",
       "    .dataframe tbody tr th:only-of-type {\n",
       "        vertical-align: middle;\n",
       "    }\n",
       "\n",
       "    .dataframe tbody tr th {\n",
       "        vertical-align: top;\n",
       "    }\n",
       "\n",
       "    .dataframe thead th {\n",
       "        text-align: right;\n",
       "    }\n",
       "</style>\n",
       "<table border=\"1\" class=\"dataframe\">\n",
       "  <thead>\n",
       "    <tr style=\"text-align: right;\">\n",
       "      <th></th>\n",
       "      <th>subject</th>\n",
       "      <th>predicate</th>\n",
       "      <th>object</th>\n",
       "    </tr>\n",
       "  </thead>\n",
       "  <tbody>\n",
       "    <tr>\n",
       "      <th>0</th>\n",
       "      <td>https://metacyc.org/reaction?orgid=META&amp;id=GLU...</td>\n",
       "      <td>rdfs:subClassOf</td>\n",
       "      <td>BFO:0000001</td>\n",
       "    </tr>\n",
       "    <tr>\n",
       "      <th>1</th>\n",
       "      <td>metacyc.pathway:GLUCOSE1PMETAB-PWY</td>\n",
       "      <td>rdfs:subClassOf</td>\n",
       "      <td>BFO:0000001</td>\n",
       "    </tr>\n",
       "    <tr>\n",
       "      <th>2</th>\n",
       "      <td>https://metacyc.org/reaction?orgid=META&amp;id=DTD...</td>\n",
       "      <td>rdfs:subClassOf</td>\n",
       "      <td>BFO:0000001</td>\n",
       "    </tr>\n",
       "    <tr>\n",
       "      <th>3</th>\n",
       "      <td>https://metacyc.org/reaction?orgid=META&amp;id=GLU...</td>\n",
       "      <td>rdfs:subClassOf</td>\n",
       "      <td>BFO:0000001</td>\n",
       "    </tr>\n",
       "    <tr>\n",
       "      <th>4</th>\n",
       "      <td>https://metacyc.org/reaction?orgid=META&amp;id=KET...</td>\n",
       "      <td>rdfs:subClassOf</td>\n",
       "      <td>BFO:0000001</td>\n",
       "    </tr>\n",
       "  </tbody>\n",
       "</table>\n",
       "</div>"
      ],
      "text/plain": [
       "                                             subject        predicate  \\\n",
       "0  https://metacyc.org/reaction?orgid=META&id=GLU...  rdfs:subClassOf   \n",
       "1                 metacyc.pathway:GLUCOSE1PMETAB-PWY  rdfs:subClassOf   \n",
       "2  https://metacyc.org/reaction?orgid=META&id=DTD...  rdfs:subClassOf   \n",
       "3  https://metacyc.org/reaction?orgid=META&id=GLU...  rdfs:subClassOf   \n",
       "4  https://metacyc.org/reaction?orgid=META&id=KET...  rdfs:subClassOf   \n",
       "\n",
       "        object  \n",
       "0  BFO:0000001  \n",
       "1  BFO:0000001  \n",
       "2  BFO:0000001  \n",
       "3  BFO:0000001  \n",
       "4  BFO:0000001  "
      ]
     },
     "metadata": {},
     "output_type": "display_data"
    },
    {
     "name": "stdout",
     "output_type": "stream",
     "text": [
      "\n",
      "============================================================\n",
      "Results from feature_annotation: 20 matches\n",
      "============================================================\n"
     ]
    },
    {
     "data": {
      "text/html": [
       "<div>\n",
       "<style scoped>\n",
       "    .dataframe tbody tr th:only-of-type {\n",
       "        vertical-align: middle;\n",
       "    }\n",
       "\n",
       "    .dataframe tbody tr th {\n",
       "        vertical-align: top;\n",
       "    }\n",
       "\n",
       "    .dataframe thead th {\n",
       "        text-align: right;\n",
       "    }\n",
       "</style>\n",
       "<table border=\"1\" class=\"dataframe\">\n",
       "  <thead>\n",
       "    <tr style=\"text-align: right;\">\n",
       "      <th></th>\n",
       "      <th>feature_id</th>\n",
       "      <th>genome_id</th>\n",
       "      <th>genome_ref</th>\n",
       "      <th>genome_taxa</th>\n",
       "      <th>protein_hash</th>\n",
       "      <th>protein_seq</th>\n",
       "      <th>rast</th>\n",
       "      <th>bakta_ec</th>\n",
       "      <th>bakta_gene</th>\n",
       "      <th>bakta_product</th>\n",
       "      <th>bakta_go</th>\n",
       "      <th>bakta_cog</th>\n",
       "      <th>bakta_refseq</th>\n",
       "      <th>bakta_uniparc</th>\n",
       "      <th>bakta_uniref</th>\n",
       "    </tr>\n",
       "  </thead>\n",
       "  <tbody>\n",
       "    <tr>\n",
       "      <th>0</th>\n",
       "      <td>562.61239_169</td>\n",
       "      <td>562.61239</td>\n",
       "      <td>219790/2/1</td>\n",
       "      <td>cellular organisms:Bacteria:Proteobacteria:Gam...</td>\n",
       "      <td>af7fb5a02e572b9a92072d5de59ab17ec8e5c6fba188c5...</td>\n",
       "      <td>MGLFDKLKSLVSDDKKDTGTIEIIAPLSGEIVNIEDVPDVVFAEKI...</td>\n",
       "      <td>PTS system, glucose-specific IIA component (EC...</td>\n",
       "      <td>2.7.1.199</td>\n",
       "      <td>crr</td>\n",
       "      <td>PTS glucose transporter subunit IIA</td>\n",
       "      <td>GO:0009401</td>\n",
       "      <td>None</td>\n",
       "      <td>NaN</td>\n",
       "      <td>NaN</td>\n",
       "      <td>UniRef50_P45338,UniRef90_A0A8S0FP79</td>\n",
       "    </tr>\n",
       "    <tr>\n",
       "      <th>1</th>\n",
       "      <td>562.61239_211</td>\n",
       "      <td>562.61239</td>\n",
       "      <td>219790/2/1</td>\n",
       "      <td>cellular organisms:Bacteria:Proteobacteria:Gam...</td>\n",
       "      <td>8b1bc56d82bf5d6840a8ac7ccad63fe2d73be0370d3a73...</td>\n",
       "      <td>MIKKIFALPVIEQISPVLSRRKLDELDLIVVDHPQVKASFALQGAH...</td>\n",
       "      <td>Aldose 1-epimerase family protein YeaD</td>\n",
       "      <td>None</td>\n",
       "      <td>None</td>\n",
       "      <td>Putative glucose-6-phosphate 1-epimerase</td>\n",
       "      <td>None</td>\n",
       "      <td>None</td>\n",
       "      <td>NaN</td>\n",
       "      <td>NaN</td>\n",
       "      <td>UniRef50_P39173</td>\n",
       "    </tr>\n",
       "    <tr>\n",
       "      <th>2</th>\n",
       "      <td>562.61239_264</td>\n",
       "      <td>562.61239</td>\n",
       "      <td>219790/2/1</td>\n",
       "      <td>cellular organisms:Bacteria:Proteobacteria:Gam...</td>\n",
       "      <td>e961e899c59a2a9dd76e1dfe0764f96ac01ed664fbd90b...</td>\n",
       "      <td>MSTPRQILAAIFDMDGLLIDSEPLWDRAELDVMASLGVDISRRNEL...</td>\n",
       "      <td>2-deoxyglucose-6-phosphate hydrolase (EC 3.1.3...</td>\n",
       "      <td>3.1.3.22,3.1.3.50,3.1.3.68</td>\n",
       "      <td>hxpB</td>\n",
       "      <td>hexitol phosphatase HxpB</td>\n",
       "      <td>None</td>\n",
       "      <td>None</td>\n",
       "      <td>NaN</td>\n",
       "      <td>NaN</td>\n",
       "      <td>UniRef50_A0A264VSC4,UniRef90_A0A797HCN7</td>\n",
       "    </tr>\n",
       "    <tr>\n",
       "      <th>3</th>\n",
       "      <td>562.61239_376</td>\n",
       "      <td>562.61239</td>\n",
       "      <td>219790/2/1</td>\n",
       "      <td>cellular organisms:Bacteria:Proteobacteria:Gam...</td>\n",
       "      <td>9851040991cda5e91c5821a837896b04a3b6b621863574...</td>\n",
       "      <td>MTAKTAPKVTLWEFFQQLGKTFMLPVALLSFCGIMLGIGSSLSSHD...</td>\n",
       "      <td>PTS system, maltose and glucose-specific IIC c...</td>\n",
       "      <td>None</td>\n",
       "      <td>malX</td>\n",
       "      <td>PTS maltose transporter subunit IICB</td>\n",
       "      <td>GO:0005363,GO:0005886,GO:0008982,GO:0009401,GO...</td>\n",
       "      <td>COG1264,G</td>\n",
       "      <td>NaN</td>\n",
       "      <td>NaN</td>\n",
       "      <td>UniRef50_P19642,UniRef90_P19642</td>\n",
       "    </tr>\n",
       "    <tr>\n",
       "      <th>4</th>\n",
       "      <td>562.61239_833</td>\n",
       "      <td>562.61239</td>\n",
       "      <td>219790/2/1</td>\n",
       "      <td>cellular organisms:Bacteria:Proteobacteria:Gam...</td>\n",
       "      <td>187e2488edebc628f3b8b8e985caa851d01f9afdbb0141...</td>\n",
       "      <td>MQVLHVCSEMFPLLKTGGLADVIGALPAAQIADGVDARVLLPAFPD...</td>\n",
       "      <td>Glycogen synthase, ADP-glucose transglucosylas...</td>\n",
       "      <td>2.4.1.21</td>\n",
       "      <td>glgA</td>\n",
       "      <td>glycogen synthase GlgA</td>\n",
       "      <td>GO:0004373,GO:0005829,GO:0005978,GO:0009011</td>\n",
       "      <td>COG0297,G</td>\n",
       "      <td>NaN</td>\n",
       "      <td>NaN</td>\n",
       "      <td>UniRef50_P0A6U8,UniRef90_P0A6U8</td>\n",
       "    </tr>\n",
       "  </tbody>\n",
       "</table>\n",
       "</div>"
      ],
      "text/plain": [
       "      feature_id  genome_id  genome_ref  \\\n",
       "0  562.61239_169  562.61239  219790/2/1   \n",
       "1  562.61239_211  562.61239  219790/2/1   \n",
       "2  562.61239_264  562.61239  219790/2/1   \n",
       "3  562.61239_376  562.61239  219790/2/1   \n",
       "4  562.61239_833  562.61239  219790/2/1   \n",
       "\n",
       "                                         genome_taxa  \\\n",
       "0  cellular organisms:Bacteria:Proteobacteria:Gam...   \n",
       "1  cellular organisms:Bacteria:Proteobacteria:Gam...   \n",
       "2  cellular organisms:Bacteria:Proteobacteria:Gam...   \n",
       "3  cellular organisms:Bacteria:Proteobacteria:Gam...   \n",
       "4  cellular organisms:Bacteria:Proteobacteria:Gam...   \n",
       "\n",
       "                                        protein_hash  \\\n",
       "0  af7fb5a02e572b9a92072d5de59ab17ec8e5c6fba188c5...   \n",
       "1  8b1bc56d82bf5d6840a8ac7ccad63fe2d73be0370d3a73...   \n",
       "2  e961e899c59a2a9dd76e1dfe0764f96ac01ed664fbd90b...   \n",
       "3  9851040991cda5e91c5821a837896b04a3b6b621863574...   \n",
       "4  187e2488edebc628f3b8b8e985caa851d01f9afdbb0141...   \n",
       "\n",
       "                                         protein_seq  \\\n",
       "0  MGLFDKLKSLVSDDKKDTGTIEIIAPLSGEIVNIEDVPDVVFAEKI...   \n",
       "1  MIKKIFALPVIEQISPVLSRRKLDELDLIVVDHPQVKASFALQGAH...   \n",
       "2  MSTPRQILAAIFDMDGLLIDSEPLWDRAELDVMASLGVDISRRNEL...   \n",
       "3  MTAKTAPKVTLWEFFQQLGKTFMLPVALLSFCGIMLGIGSSLSSHD...   \n",
       "4  MQVLHVCSEMFPLLKTGGLADVIGALPAAQIADGVDARVLLPAFPD...   \n",
       "\n",
       "                                                rast  \\\n",
       "0  PTS system, glucose-specific IIA component (EC...   \n",
       "1             Aldose 1-epimerase family protein YeaD   \n",
       "2  2-deoxyglucose-6-phosphate hydrolase (EC 3.1.3...   \n",
       "3  PTS system, maltose and glucose-specific IIC c...   \n",
       "4  Glycogen synthase, ADP-glucose transglucosylas...   \n",
       "\n",
       "                     bakta_ec bakta_gene  \\\n",
       "0                   2.7.1.199        crr   \n",
       "1                        None       None   \n",
       "2  3.1.3.22,3.1.3.50,3.1.3.68       hxpB   \n",
       "3                        None       malX   \n",
       "4                    2.4.1.21       glgA   \n",
       "\n",
       "                              bakta_product  \\\n",
       "0       PTS glucose transporter subunit IIA   \n",
       "1  Putative glucose-6-phosphate 1-epimerase   \n",
       "2                  hexitol phosphatase HxpB   \n",
       "3      PTS maltose transporter subunit IICB   \n",
       "4                    glycogen synthase GlgA   \n",
       "\n",
       "                                            bakta_go  bakta_cog  bakta_refseq  \\\n",
       "0                                         GO:0009401       None           NaN   \n",
       "1                                               None       None           NaN   \n",
       "2                                               None       None           NaN   \n",
       "3  GO:0005363,GO:0005886,GO:0008982,GO:0009401,GO...  COG1264,G           NaN   \n",
       "4        GO:0004373,GO:0005829,GO:0005978,GO:0009011  COG0297,G           NaN   \n",
       "\n",
       "   bakta_uniparc                             bakta_uniref  \n",
       "0            NaN      UniRef50_P45338,UniRef90_A0A8S0FP79  \n",
       "1            NaN                          UniRef50_P39173  \n",
       "2            NaN  UniRef50_A0A264VSC4,UniRef90_A0A797HCN7  \n",
       "3            NaN          UniRef50_P19642,UniRef90_P19642  \n",
       "4            NaN          UniRef50_P0A6U8,UniRef90_P0A6U8  "
      ]
     },
     "metadata": {},
     "output_type": "display_data"
    },
    {
     "name": "stdout",
     "output_type": "stream",
     "text": [
      "\n",
      "============================================================\n",
      "Results from statements: 20 matches\n",
      "============================================================\n"
     ]
    },
    {
     "data": {
      "text/html": [
       "<div>\n",
       "<style scoped>\n",
       "    .dataframe tbody tr th:only-of-type {\n",
       "        vertical-align: middle;\n",
       "    }\n",
       "\n",
       "    .dataframe tbody tr th {\n",
       "        vertical-align: top;\n",
       "    }\n",
       "\n",
       "    .dataframe thead th {\n",
       "        text-align: right;\n",
       "    }\n",
       "</style>\n",
       "<table border=\"1\" class=\"dataframe\">\n",
       "  <thead>\n",
       "    <tr style=\"text-align: right;\">\n",
       "      <th></th>\n",
       "      <th>stanza</th>\n",
       "      <th>subject</th>\n",
       "      <th>predicate</th>\n",
       "      <th>object</th>\n",
       "      <th>value</th>\n",
       "      <th>datatype</th>\n",
       "      <th>language</th>\n",
       "      <th>graph</th>\n",
       "    </tr>\n",
       "  </thead>\n",
       "  <tbody>\n",
       "    <tr>\n",
       "      <th>0</th>\n",
       "      <td>EC:3.1.1.33</td>\n",
       "      <td>EC:3.1.1.33</td>\n",
       "      <td>rdfs:label</td>\n",
       "      <td>None</td>\n",
       "      <td>6-acetylglucose deacetylase</td>\n",
       "      <td>None</td>\n",
       "      <td>None</td>\n",
       "      <td>NaN</td>\n",
       "    </tr>\n",
       "    <tr>\n",
       "      <th>1</th>\n",
       "      <td>EC:3.1.3.10</td>\n",
       "      <td>EC:3.1.3.10</td>\n",
       "      <td>rdfs:label</td>\n",
       "      <td>None</td>\n",
       "      <td>glucose-1-phosphatase</td>\n",
       "      <td>None</td>\n",
       "      <td>None</td>\n",
       "      <td>NaN</td>\n",
       "    </tr>\n",
       "    <tr>\n",
       "      <th>2</th>\n",
       "      <td>EC:3.1.3.68</td>\n",
       "      <td>EC:3.1.3.68</td>\n",
       "      <td>rdfs:label</td>\n",
       "      <td>None</td>\n",
       "      <td>2-deoxyglucose-6-phosphatase</td>\n",
       "      <td>None</td>\n",
       "      <td>None</td>\n",
       "      <td>NaN</td>\n",
       "    </tr>\n",
       "    <tr>\n",
       "      <th>3</th>\n",
       "      <td>EC:3.1.3.68</td>\n",
       "      <td>EC:3.1.3.68</td>\n",
       "      <td>oio:hasExactSynonym</td>\n",
       "      <td>None</td>\n",
       "      <td>2-deoxyglucose-6-phosphate phosphatase</td>\n",
       "      <td>None</td>\n",
       "      <td>None</td>\n",
       "      <td>NaN</td>\n",
       "    </tr>\n",
       "    <tr>\n",
       "      <th>4</th>\n",
       "      <td>EC:3.1.3.9</td>\n",
       "      <td>EC:3.1.3.9</td>\n",
       "      <td>rdfs:label</td>\n",
       "      <td>None</td>\n",
       "      <td>glucose-6-phosphatase</td>\n",
       "      <td>None</td>\n",
       "      <td>None</td>\n",
       "      <td>NaN</td>\n",
       "    </tr>\n",
       "  </tbody>\n",
       "</table>\n",
       "</div>"
      ],
      "text/plain": [
       "        stanza      subject            predicate object  \\\n",
       "0  EC:3.1.1.33  EC:3.1.1.33           rdfs:label   None   \n",
       "1  EC:3.1.3.10  EC:3.1.3.10           rdfs:label   None   \n",
       "2  EC:3.1.3.68  EC:3.1.3.68           rdfs:label   None   \n",
       "3  EC:3.1.3.68  EC:3.1.3.68  oio:hasExactSynonym   None   \n",
       "4   EC:3.1.3.9   EC:3.1.3.9           rdfs:label   None   \n",
       "\n",
       "                                    value datatype language  graph  \n",
       "0             6-acetylglucose deacetylase     None     None    NaN  \n",
       "1                   glucose-1-phosphatase     None     None    NaN  \n",
       "2            2-deoxyglucose-6-phosphatase     None     None    NaN  \n",
       "3  2-deoxyglucose-6-phosphate phosphatase     None     None    NaN  \n",
       "4                   glucose-6-phosphatase     None     None    NaN  "
      ]
     },
     "metadata": {},
     "output_type": "display_data"
    },
    {
     "name": "stdout",
     "output_type": "stream",
     "text": [
      "\n",
      "============================================================\n",
      "Results from term_association: 20 matches\n",
      "============================================================\n"
     ]
    },
    {
     "data": {
      "text/html": [
       "<div>\n",
       "<style scoped>\n",
       "    .dataframe tbody tr th:only-of-type {\n",
       "        vertical-align: middle;\n",
       "    }\n",
       "\n",
       "    .dataframe tbody tr th {\n",
       "        vertical-align: top;\n",
       "    }\n",
       "\n",
       "    .dataframe thead th {\n",
       "        text-align: right;\n",
       "    }\n",
       "</style>\n",
       "<table border=\"1\" class=\"dataframe\">\n",
       "  <thead>\n",
       "    <tr style=\"text-align: right;\">\n",
       "      <th></th>\n",
       "      <th>id</th>\n",
       "      <th>subject</th>\n",
       "      <th>predicate</th>\n",
       "      <th>object</th>\n",
       "      <th>evidence_type</th>\n",
       "      <th>publication</th>\n",
       "      <th>source</th>\n",
       "    </tr>\n",
       "  </thead>\n",
       "  <tbody>\n",
       "    <tr>\n",
       "      <th>0</th>\n",
       "      <td>seed.role:0000000008648</td>\n",
       "      <td>UDP-glucose:(glucosyl)lipopolysaccharide alpha...</td>\n",
       "      <td>RO:0002327</td>\n",
       "      <td>seed.reaction:rxn08620</td>\n",
       "      <td>ECO:0000501</td>\n",
       "      <td>ModelSEED_template</td>\n",
       "      <td>ModelSEED:GramNegModelTemplateV6</td>\n",
       "    </tr>\n",
       "    <tr>\n",
       "      <th>1</th>\n",
       "      <td>seed.role:0000000007531</td>\n",
       "      <td>Similar to CDP-glucose 4,6-dehydratase (EC 4.2...</td>\n",
       "      <td>RO:0002327</td>\n",
       "      <td>seed.reaction:rxn01750</td>\n",
       "      <td>ECO:0000501</td>\n",
       "      <td>ModelSEED_template</td>\n",
       "      <td>ModelSEED:GramNegModelTemplateV6</td>\n",
       "    </tr>\n",
       "    <tr>\n",
       "      <th>2</th>\n",
       "      <td>seed.role:0000000003125</td>\n",
       "      <td>Glucose-1-phosphate cytidylyltransferase (EC 2...</td>\n",
       "      <td>RO:0002327</td>\n",
       "      <td>seed.reaction:rxn00702</td>\n",
       "      <td>ECO:0000501</td>\n",
       "      <td>ModelSEED_template</td>\n",
       "      <td>ModelSEED:GramNegModelTemplateV6</td>\n",
       "    </tr>\n",
       "    <tr>\n",
       "      <th>3</th>\n",
       "      <td>seed.role:0000000003129</td>\n",
       "      <td>Glucose-6-phosphate isomerase (EC 5.3.1.9)</td>\n",
       "      <td>RO:0002327</td>\n",
       "      <td>seed.reaction:rxn00558</td>\n",
       "      <td>ECO:0000501</td>\n",
       "      <td>ModelSEED_template</td>\n",
       "      <td>ModelSEED:GramNegModelTemplateV6</td>\n",
       "    </tr>\n",
       "    <tr>\n",
       "      <th>4</th>\n",
       "      <td>seed.role:0000000003131</td>\n",
       "      <td>Glucose-6-phosphate isomerase, archaeal II (EC...</td>\n",
       "      <td>RO:0002327</td>\n",
       "      <td>seed.reaction:rxn00558</td>\n",
       "      <td>ECO:0000501</td>\n",
       "      <td>ModelSEED_template</td>\n",
       "      <td>ModelSEED:GramNegModelTemplateV6</td>\n",
       "    </tr>\n",
       "  </tbody>\n",
       "</table>\n",
       "</div>"
      ],
      "text/plain": [
       "                        id                                            subject  \\\n",
       "0  seed.role:0000000008648  UDP-glucose:(glucosyl)lipopolysaccharide alpha...   \n",
       "1  seed.role:0000000007531  Similar to CDP-glucose 4,6-dehydratase (EC 4.2...   \n",
       "2  seed.role:0000000003125  Glucose-1-phosphate cytidylyltransferase (EC 2...   \n",
       "3  seed.role:0000000003129         Glucose-6-phosphate isomerase (EC 5.3.1.9)   \n",
       "4  seed.role:0000000003131  Glucose-6-phosphate isomerase, archaeal II (EC...   \n",
       "\n",
       "    predicate                  object evidence_type         publication  \\\n",
       "0  RO:0002327  seed.reaction:rxn08620   ECO:0000501  ModelSEED_template   \n",
       "1  RO:0002327  seed.reaction:rxn01750   ECO:0000501  ModelSEED_template   \n",
       "2  RO:0002327  seed.reaction:rxn00702   ECO:0000501  ModelSEED_template   \n",
       "3  RO:0002327  seed.reaction:rxn00558   ECO:0000501  ModelSEED_template   \n",
       "4  RO:0002327  seed.reaction:rxn00558   ECO:0000501  ModelSEED_template   \n",
       "\n",
       "                             source  \n",
       "0  ModelSEED:GramNegModelTemplateV6  \n",
       "1  ModelSEED:GramNegModelTemplateV6  \n",
       "2  ModelSEED:GramNegModelTemplateV6  \n",
       "3  ModelSEED:GramNegModelTemplateV6  \n",
       "4  ModelSEED:GramNegModelTemplateV6  "
      ]
     },
     "metadata": {},
     "output_type": "display_data"
    }
   ],
   "source": [
    "# Search for a specific term\n",
    "search_term = \"glucose\"  # Change this to search for different terms\n",
    "\n",
    "print(f\"Searching for '{search_term}' across all tables...\\n\")\n",
    "results = search_all_tables(search_term, limit_per_table=20)\n",
    "\n",
    "# Display results\n",
    "for table, df in results.items():\n",
    "    print(f\"\\n{'='*60}\")\n",
    "    print(f\"Results from {table}: {len(df)} matches\")\n",
    "    print(f\"{'='*60}\")\n",
    "    display(df.head(5))"
   ]
  },
  {
   "cell_type": "markdown",
   "metadata": {},
   "source": [
    "## Specialized Search Functions"
   ]
  },
  {
   "cell_type": "code",
   "execution_count": 5,
   "metadata": {},
   "outputs": [
    {
     "name": "stderr",
     "output_type": "stream",
     "text": [
      "[Stage 52:=========>        (1 + 1) / 2][Stage 53:>                 (0 + 0) / 2]"
     ]
    },
    {
     "name": "stdout",
     "output_type": "stream",
     "text": [
      "Found 0 SEED compounds related to glucose:\n"
     ]
    },
    {
     "data": {
      "text/html": [
       "<div>\n",
       "<style scoped>\n",
       "    .dataframe tbody tr th:only-of-type {\n",
       "        vertical-align: middle;\n",
       "    }\n",
       "\n",
       "    .dataframe tbody tr th {\n",
       "        vertical-align: top;\n",
       "    }\n",
       "\n",
       "    .dataframe thead th {\n",
       "        text-align: right;\n",
       "    }\n",
       "</style>\n",
       "<table border=\"1\" class=\"dataframe\">\n",
       "  <thead>\n",
       "    <tr style=\"text-align: right;\">\n",
       "      <th></th>\n",
       "      <th>compound_id</th>\n",
       "      <th>compound_name</th>\n",
       "      <th>cross_reference</th>\n",
       "      <th>ref_type</th>\n",
       "    </tr>\n",
       "  </thead>\n",
       "  <tbody>\n",
       "  </tbody>\n",
       "</table>\n",
       "</div>"
      ],
      "text/plain": [
       "Empty DataFrame\n",
       "Columns: [compound_id, compound_name, cross_reference, ref_type]\n",
       "Index: []"
      ]
     },
     "metadata": {},
     "output_type": "display_data"
    }
   ],
   "source": [
    "def find_seed_compounds(compound_pattern=None, limit=100):\n",
    "    \"\"\"Find SEED compounds with their details\"\"\"\n",
    "    \n",
    "    if compound_pattern:\n",
    "        pattern_filter = f\"AND s1.subject LIKE '%{compound_pattern}%'\"\n",
    "    else:\n",
    "        pattern_filter = \"\"\n",
    "    \n",
    "    query = f\"\"\"\n",
    "    SELECT DISTINCT\n",
    "        s1.subject as compound_id,\n",
    "        s1.value as compound_name,\n",
    "        s2.object as cross_reference,\n",
    "        s2.predicate as ref_type\n",
    "    FROM {namespace}.statements s1\n",
    "    LEFT JOIN {namespace}.statements s2 \n",
    "        ON s1.subject = s2.subject \n",
    "        AND s2.predicate IN ('oio:hasDbXref', 'skos:exactMatch')\n",
    "    WHERE s1.subject LIKE 'seed.compound:%'\n",
    "    AND s1.predicate = 'rdfs:label'\n",
    "    {pattern_filter}\n",
    "    LIMIT {limit}\n",
    "    \"\"\"\n",
    "    \n",
    "    return spark.sql(query).toPandas()\n",
    "\n",
    "# Example: Find glucose-related compounds\n",
    "glucose_compounds = find_seed_compounds('glucose')\n",
    "print(f\"Found {len(glucose_compounds)} SEED compounds related to glucose:\")\n",
    "display(glucose_compounds.head(10))"
   ]
  },
  {
   "cell_type": "code",
   "execution_count": 6,
   "metadata": {},
   "outputs": [
    {
     "name": "stderr",
     "output_type": "stream",
     "text": [
      "[Stage 53:=============================>                            (1 + 1) / 2]"
     ]
    },
    {
     "ename": "AnalysisException",
     "evalue": "[UNRESOLVED_COLUMN.WITH_SUGGESTION] A column or function parameter with name `e`.`bakta_ec` cannot be resolved. Did you mean one of the following? [`d`.`ec_id`, `d`.`ec_name`, `e`.`ec_number`, `e`.`feature_count`, `e`.`genome_count`].; line 28 pos 10;\n'WithCTE\n:- CTERelationDef 0, false\n:  +- SubqueryAlias ec_in_genomes\n:     +- Distinct\n:        +- Aggregate [bakta_ec#2484], [bakta_ec#2484 AS ec_number#2470, count(distinct genome_id#2478) AS genome_count#2471L, count(1) AS feature_count#2472L, first(bakta_product#2486, false) AS example_product#2474]\n:           +- Filter isnotnull(bakta_ec#2484)\n:              +- SubqueryAlias spark_catalog.ontology_data.feature_annotation\n:                 +- Relation spark_catalog.ontology_data.feature_annotation[feature_id#2477,genome_id#2478,genome_ref#2479,genome_taxa#2480,protein_hash#2481,protein_seq#2482,rast#2483,bakta_ec#2484,bakta_gene#2485,bakta_product#2486,bakta_go#2487,bakta_cog#2488,bakta_refseq#2489,bakta_uniparc#2490,bakta_uniref#2491] parquet\n:- CTERelationDef 1, false\n:  +- SubqueryAlias ec_details\n:     +- Project [subject#2493 AS ec_id#2475, value#2496 AS ec_name#2476]\n:        +- Filter ((predicate#2494 = rdfs:label) AND subject#2493 LIKE EC:%)\n:           +- SubqueryAlias spark_catalog.ontology_data.statements\n:              +- Relation spark_catalog.ontology_data.statements[stanza#2492,subject#2493,predicate#2494,object#2495,value#2496,datatype#2497,language#2498,graph#2499] parquet\n+- 'GlobalLimit 100\n   +- 'LocalLimit 100\n      +- 'Sort ['e.genome_count DESC NULLS LAST, 'e.feature_count DESC NULLS LAST], true\n         +- 'Project ['e.ec_number, 'd.ec_name, 'e.genome_count, 'e.feature_count, 'e.example_product]\n            +- 'Filter 'e.bakta_ec LIKE 2%\n               +- Join LeftOuter, (concat(EC:, ec_number#2470) = ec_id#2475)\n                  :- SubqueryAlias e\n                  :  +- SubqueryAlias ec_in_genomes\n                  :     +- CTERelationRef 0, true, [ec_number#2470, genome_count#2471L, feature_count#2472L, example_product#2474], false\n                  +- SubqueryAlias d\n                     +- SubqueryAlias ec_details\n                        +- CTERelationRef 1, true, [ec_id#2475, ec_name#2476], false\n",
     "output_type": "error",
     "traceback": [
      "\u001b[31m---------------------------------------------------------------------------\u001b[39m",
      "\u001b[31mAnalysisException\u001b[39m                         Traceback (most recent call last)",
      "\u001b[36mCell\u001b[39m\u001b[36m \u001b[39m\u001b[32mIn[6]\u001b[39m\u001b[32m, line 41\u001b[39m\n\u001b[32m     38\u001b[39m     \u001b[38;5;28;01mreturn\u001b[39;00m spark.sql(query).toPandas()\n\u001b[32m     40\u001b[39m \u001b[38;5;66;03m# Example: Find all transferases (EC 2.*)\u001b[39;00m\n\u001b[32m---> \u001b[39m\u001b[32m41\u001b[39m transferases = \u001b[43mfind_ec_numbers_with_details\u001b[49m\u001b[43m(\u001b[49m\u001b[33;43m'\u001b[39;49m\u001b[33;43m2\u001b[39;49m\u001b[33;43m'\u001b[39;49m\u001b[43m)\u001b[49m\n\u001b[32m     42\u001b[39m \u001b[38;5;28mprint\u001b[39m(\u001b[33mf\u001b[39m\u001b[33m\"\u001b[39m\u001b[33mFound \u001b[39m\u001b[38;5;132;01m{\u001b[39;00m\u001b[38;5;28mlen\u001b[39m(transferases)\u001b[38;5;132;01m}\u001b[39;00m\u001b[33m transferase EC numbers:\u001b[39m\u001b[33m\"\u001b[39m)\n\u001b[32m     43\u001b[39m display(transferases.head(\u001b[32m10\u001b[39m))\n",
      "\u001b[36mCell\u001b[39m\u001b[36m \u001b[39m\u001b[32mIn[6]\u001b[39m\u001b[32m, line 38\u001b[39m, in \u001b[36mfind_ec_numbers_with_details\u001b[39m\u001b[34m(ec_pattern, limit)\u001b[39m\n\u001b[32m      4\u001b[39m ec_filter = \u001b[33mf\u001b[39m\u001b[33m\"\u001b[39m\u001b[33mWHERE f.bakta_ec LIKE \u001b[39m\u001b[33m'\u001b[39m\u001b[38;5;132;01m{\u001b[39;00mec_pattern\u001b[38;5;132;01m}\u001b[39;00m\u001b[33m%\u001b[39m\u001b[33m'\u001b[39m\u001b[33m\"\u001b[39m \u001b[38;5;28;01mif\u001b[39;00m ec_pattern \u001b[38;5;28;01melse\u001b[39;00m \u001b[33m\"\u001b[39m\u001b[33m\"\u001b[39m\n\u001b[32m      6\u001b[39m query = \u001b[33mf\u001b[39m\u001b[33m\"\"\"\u001b[39m\n\u001b[32m      7\u001b[39m \u001b[33mWITH ec_in_genomes AS (\u001b[39m\n\u001b[32m      8\u001b[39m \u001b[33m    SELECT DISTINCT\u001b[39m\n\u001b[32m   (...)\u001b[39m\u001b[32m     35\u001b[39m \u001b[33mLIMIT \u001b[39m\u001b[38;5;132;01m{\u001b[39;00mlimit\u001b[38;5;132;01m}\u001b[39;00m\n\u001b[32m     36\u001b[39m \u001b[33m\u001b[39m\u001b[33m\"\"\"\u001b[39m\n\u001b[32m---> \u001b[39m\u001b[32m38\u001b[39m \u001b[38;5;28;01mreturn\u001b[39;00m \u001b[43mspark\u001b[49m\u001b[43m.\u001b[49m\u001b[43msql\u001b[49m\u001b[43m(\u001b[49m\u001b[43mquery\u001b[49m\u001b[43m)\u001b[49m.toPandas()\n",
      "\u001b[36mFile \u001b[39m\u001b[32m/opt/bitnami/spark/python/pyspark/sql/session.py:1631\u001b[39m, in \u001b[36mSparkSession.sql\u001b[39m\u001b[34m(self, sqlQuery, args, **kwargs)\u001b[39m\n\u001b[32m   1627\u001b[39m         \u001b[38;5;28;01massert\u001b[39;00m \u001b[38;5;28mself\u001b[39m._jvm \u001b[38;5;129;01mis\u001b[39;00m \u001b[38;5;129;01mnot\u001b[39;00m \u001b[38;5;28;01mNone\u001b[39;00m\n\u001b[32m   1628\u001b[39m         litArgs = \u001b[38;5;28mself\u001b[39m._jvm.PythonUtils.toArray(\n\u001b[32m   1629\u001b[39m             [_to_java_column(lit(v)) \u001b[38;5;28;01mfor\u001b[39;00m v \u001b[38;5;129;01min\u001b[39;00m (args \u001b[38;5;129;01mor\u001b[39;00m [])]\n\u001b[32m   1630\u001b[39m         )\n\u001b[32m-> \u001b[39m\u001b[32m1631\u001b[39m     \u001b[38;5;28;01mreturn\u001b[39;00m DataFrame(\u001b[38;5;28;43mself\u001b[39;49m\u001b[43m.\u001b[49m\u001b[43m_jsparkSession\u001b[49m\u001b[43m.\u001b[49m\u001b[43msql\u001b[49m\u001b[43m(\u001b[49m\u001b[43msqlQuery\u001b[49m\u001b[43m,\u001b[49m\u001b[43m \u001b[49m\u001b[43mlitArgs\u001b[49m\u001b[43m)\u001b[49m, \u001b[38;5;28mself\u001b[39m)\n\u001b[32m   1632\u001b[39m \u001b[38;5;28;01mfinally\u001b[39;00m:\n\u001b[32m   1633\u001b[39m     \u001b[38;5;28;01mif\u001b[39;00m \u001b[38;5;28mlen\u001b[39m(kwargs) > \u001b[32m0\u001b[39m:\n",
      "\u001b[36mFile \u001b[39m\u001b[32m/opt/bitnami/python/lib/python3.11/site-packages/py4j/java_gateway.py:1322\u001b[39m, in \u001b[36mJavaMember.__call__\u001b[39m\u001b[34m(self, *args)\u001b[39m\n\u001b[32m   1316\u001b[39m command = proto.CALL_COMMAND_NAME +\\\n\u001b[32m   1317\u001b[39m     \u001b[38;5;28mself\u001b[39m.command_header +\\\n\u001b[32m   1318\u001b[39m     args_command +\\\n\u001b[32m   1319\u001b[39m     proto.END_COMMAND_PART\n\u001b[32m   1321\u001b[39m answer = \u001b[38;5;28mself\u001b[39m.gateway_client.send_command(command)\n\u001b[32m-> \u001b[39m\u001b[32m1322\u001b[39m return_value = \u001b[43mget_return_value\u001b[49m\u001b[43m(\u001b[49m\n\u001b[32m   1323\u001b[39m \u001b[43m    \u001b[49m\u001b[43manswer\u001b[49m\u001b[43m,\u001b[49m\u001b[43m \u001b[49m\u001b[38;5;28;43mself\u001b[39;49m\u001b[43m.\u001b[49m\u001b[43mgateway_client\u001b[49m\u001b[43m,\u001b[49m\u001b[43m \u001b[49m\u001b[38;5;28;43mself\u001b[39;49m\u001b[43m.\u001b[49m\u001b[43mtarget_id\u001b[49m\u001b[43m,\u001b[49m\u001b[43m \u001b[49m\u001b[38;5;28;43mself\u001b[39;49m\u001b[43m.\u001b[49m\u001b[43mname\u001b[49m\u001b[43m)\u001b[49m\n\u001b[32m   1325\u001b[39m \u001b[38;5;28;01mfor\u001b[39;00m temp_arg \u001b[38;5;129;01min\u001b[39;00m temp_args:\n\u001b[32m   1326\u001b[39m     \u001b[38;5;28;01mif\u001b[39;00m \u001b[38;5;28mhasattr\u001b[39m(temp_arg, \u001b[33m\"\u001b[39m\u001b[33m_detach\u001b[39m\u001b[33m\"\u001b[39m):\n",
      "\u001b[36mFile \u001b[39m\u001b[32m/opt/bitnami/spark/python/pyspark/errors/exceptions/captured.py:185\u001b[39m, in \u001b[36mcapture_sql_exception.<locals>.deco\u001b[39m\u001b[34m(*a, **kw)\u001b[39m\n\u001b[32m    181\u001b[39m converted = convert_exception(e.java_exception)\n\u001b[32m    182\u001b[39m \u001b[38;5;28;01mif\u001b[39;00m \u001b[38;5;129;01mnot\u001b[39;00m \u001b[38;5;28misinstance\u001b[39m(converted, UnknownException):\n\u001b[32m    183\u001b[39m     \u001b[38;5;66;03m# Hide where the exception came from that shows a non-Pythonic\u001b[39;00m\n\u001b[32m    184\u001b[39m     \u001b[38;5;66;03m# JVM exception message.\u001b[39;00m\n\u001b[32m--> \u001b[39m\u001b[32m185\u001b[39m     \u001b[38;5;28;01mraise\u001b[39;00m converted \u001b[38;5;28;01mfrom\u001b[39;00m\u001b[38;5;250m \u001b[39m\u001b[38;5;28;01mNone\u001b[39;00m\n\u001b[32m    186\u001b[39m \u001b[38;5;28;01melse\u001b[39;00m:\n\u001b[32m    187\u001b[39m     \u001b[38;5;28;01mraise\u001b[39;00m\n",
      "\u001b[31mAnalysisException\u001b[39m: [UNRESOLVED_COLUMN.WITH_SUGGESTION] A column or function parameter with name `e`.`bakta_ec` cannot be resolved. Did you mean one of the following? [`d`.`ec_id`, `d`.`ec_name`, `e`.`ec_number`, `e`.`feature_count`, `e`.`genome_count`].; line 28 pos 10;\n'WithCTE\n:- CTERelationDef 0, false\n:  +- SubqueryAlias ec_in_genomes\n:     +- Distinct\n:        +- Aggregate [bakta_ec#2484], [bakta_ec#2484 AS ec_number#2470, count(distinct genome_id#2478) AS genome_count#2471L, count(1) AS feature_count#2472L, first(bakta_product#2486, false) AS example_product#2474]\n:           +- Filter isnotnull(bakta_ec#2484)\n:              +- SubqueryAlias spark_catalog.ontology_data.feature_annotation\n:                 +- Relation spark_catalog.ontology_data.feature_annotation[feature_id#2477,genome_id#2478,genome_ref#2479,genome_taxa#2480,protein_hash#2481,protein_seq#2482,rast#2483,bakta_ec#2484,bakta_gene#2485,bakta_product#2486,bakta_go#2487,bakta_cog#2488,bakta_refseq#2489,bakta_uniparc#2490,bakta_uniref#2491] parquet\n:- CTERelationDef 1, false\n:  +- SubqueryAlias ec_details\n:     +- Project [subject#2493 AS ec_id#2475, value#2496 AS ec_name#2476]\n:        +- Filter ((predicate#2494 = rdfs:label) AND subject#2493 LIKE EC:%)\n:           +- SubqueryAlias spark_catalog.ontology_data.statements\n:              +- Relation spark_catalog.ontology_data.statements[stanza#2492,subject#2493,predicate#2494,object#2495,value#2496,datatype#2497,language#2498,graph#2499] parquet\n+- 'GlobalLimit 100\n   +- 'LocalLimit 100\n      +- 'Sort ['e.genome_count DESC NULLS LAST, 'e.feature_count DESC NULLS LAST], true\n         +- 'Project ['e.ec_number, 'd.ec_name, 'e.genome_count, 'e.feature_count, 'e.example_product]\n            +- 'Filter 'e.bakta_ec LIKE 2%\n               +- Join LeftOuter, (concat(EC:, ec_number#2470) = ec_id#2475)\n                  :- SubqueryAlias e\n                  :  +- SubqueryAlias ec_in_genomes\n                  :     +- CTERelationRef 0, true, [ec_number#2470, genome_count#2471L, feature_count#2472L, example_product#2474], false\n                  +- SubqueryAlias d\n                     +- SubqueryAlias ec_details\n                        +- CTERelationRef 1, true, [ec_id#2475, ec_name#2476], false\n"
     ]
    }
   ],
   "source": [
    "def find_ec_numbers_with_details(ec_pattern=None, limit=100):\n",
    "    \"\"\"Find EC numbers with their names and associated reactions\"\"\"\n",
    "    \n",
    "    ec_filter = f\"WHERE f.bakta_ec LIKE '{ec_pattern}%'\" if ec_pattern else \"\"\n",
    "    \n",
    "    query = f\"\"\"\n",
    "    WITH ec_in_genomes AS (\n",
    "        SELECT DISTINCT\n",
    "            bakta_ec as ec_number,\n",
    "            COUNT(DISTINCT genome_id) as genome_count,\n",
    "            COUNT(*) as feature_count,\n",
    "            FIRST(bakta_product) as example_product\n",
    "        FROM {namespace}.feature_annotation\n",
    "        WHERE bakta_ec IS NOT NULL\n",
    "        GROUP BY bakta_ec\n",
    "    ),\n",
    "    ec_details AS (\n",
    "        SELECT \n",
    "            subject as ec_id,\n",
    "            value as ec_name\n",
    "        FROM {namespace}.statements\n",
    "        WHERE predicate = 'rdfs:label'\n",
    "        AND subject LIKE 'EC:%'\n",
    "    )\n",
    "    SELECT \n",
    "        e.ec_number,\n",
    "        d.ec_name,\n",
    "        e.genome_count,\n",
    "        e.feature_count,\n",
    "        e.example_product\n",
    "    FROM ec_in_genomes e\n",
    "    LEFT JOIN ec_details d ON CONCAT('EC:', e.ec_number) = d.ec_id\n",
    "    {ec_filter.replace('f.', 'e.')}\n",
    "    ORDER BY e.genome_count DESC, e.feature_count DESC\n",
    "    LIMIT {limit}\n",
    "    \"\"\"\n",
    "    \n",
    "    return spark.sql(query).toPandas()\n",
    "\n",
    "# Example: Find all transferases (EC 2.*)\n",
    "transferases = find_ec_numbers_with_details('2')\n",
    "print(f\"Found {len(transferases)} transferase EC numbers:\")\n",
    "display(transferases.head(10))"
   ]
  },
  {
   "cell_type": "code",
   "execution_count": null,
   "metadata": {},
   "outputs": [],
   "source": [
    "def find_go_terms(go_pattern=None, limit=100):\n",
    "    \"\"\"Find GO terms with their usage in genomes\"\"\"\n",
    "    \n",
    "    go_filter = f\"WHERE f.bakta_go LIKE '%{go_pattern}%'\" if go_pattern else \"\"\n",
    "    \n",
    "    query = f\"\"\"\n",
    "    WITH go_usage AS (\n",
    "        SELECT \n",
    "            bakta_go as go_term,\n",
    "            COUNT(DISTINCT genome_id) as genome_count,\n",
    "            COUNT(*) as annotation_count,\n",
    "            COLLECT_SET(bakta_product)[0] as example_product\n",
    "        FROM {namespace}.feature_annotation f\n",
    "        WHERE bakta_go IS NOT NULL\n",
    "        {go_filter}\n",
    "        GROUP BY bakta_go\n",
    "    ),\n",
    "    go_details AS (\n",
    "        SELECT \n",
    "            subject as go_id,\n",
    "            value as go_name\n",
    "        FROM {namespace}.statements\n",
    "        WHERE predicate = 'rdfs:label'\n",
    "        AND subject LIKE 'GO:%'\n",
    "    )\n",
    "    SELECT \n",
    "        g.go_term,\n",
    "        d.go_name,\n",
    "        g.genome_count,\n",
    "        g.annotation_count,\n",
    "        g.example_product,\n",
    "        ROUND(g.genome_count * 100.0 / 50, 2) as pct_genomes\n",
    "    FROM go_usage g\n",
    "    LEFT JOIN go_details d ON g.go_term = d.go_id\n",
    "    ORDER BY g.genome_count DESC, g.annotation_count DESC\n",
    "    LIMIT {limit}\n",
    "    \"\"\"\n",
    "    \n",
    "    return spark.sql(query).toPandas()\n",
    "\n",
    "# Example: Find binding-related GO terms\n",
    "binding_terms = find_go_terms('binding')\n",
    "print(f\"Found {len(binding_terms)} GO terms related to binding:\")\n",
    "display(binding_terms.head(10))"
   ]
  },
  {
   "cell_type": "markdown",
   "metadata": {},
   "source": [
    "## Export Search Results"
   ]
  },
  {
   "cell_type": "code",
   "execution_count": null,
   "metadata": {},
   "outputs": [],
   "source": [
    "def export_search_to_csv(search_term, output_path='search_results'):\n",
    "    \"\"\"Export search results to CSV files\"\"\"\n",
    "    \n",
    "    results = search_all_tables(search_term, limit_per_table=1000)\n",
    "    \n",
    "    for table, df in results.items():\n",
    "        filename = f\"{output_path}_{table}_{search_term.replace(' ', '_')}.csv\"\n",
    "        df.to_csv(filename, index=False)\n",
    "        print(f\"Exported {len(df)} results from {table} to {filename}\")\n",
    "\n",
    "# Example: Export all glucose-related entries\n",
    "# export_search_to_csv('glucose', 'glucose_search')"
   ]
  },
  {
   "cell_type": "markdown",
   "metadata": {},
   "source": [
    "## Complex Search: Find Metabolic Pathways"
   ]
  },
  {
   "cell_type": "code",
   "execution_count": null,
   "metadata": {},
   "outputs": [],
   "source": [
    "def find_metabolic_pathway(compound_name, limit=50):\n",
    "    \"\"\"Find reactions and enzymes related to a specific compound\"\"\"\n",
    "    \n",
    "    query = f\"\"\"\n",
    "    WITH compound_reactions AS (\n",
    "        -- Find reactions involving the compound\n",
    "        SELECT DISTINCT\n",
    "            e.subject as reaction_id,\n",
    "            e.object as compound_id,\n",
    "            s.value as compound_name\n",
    "        FROM {namespace}.entailed_edge e\n",
    "        JOIN {namespace}.statements s\n",
    "            ON e.object = s.subject \n",
    "            AND s.predicate = 'rdfs:label'\n",
    "        WHERE e.predicate = 'RO:0000057'  -- has participant\n",
    "        AND e.subject LIKE 'seed.reaction:%'\n",
    "        AND LOWER(s.value) LIKE LOWER('%{compound_name}%')\n",
    "    ),\n",
    "    reaction_enzymes AS (\n",
    "        -- Find enzymes that catalyze these reactions\n",
    "        SELECT \n",
    "            ta.object as reaction_id,\n",
    "            ta.subject as role_id,\n",
    "            s.value as role_name\n",
    "        FROM {namespace}.term_association ta\n",
    "        JOIN {namespace}.statements s\n",
    "            ON ta.subject = s.subject\n",
    "            AND s.predicate = 'rdfs:label'\n",
    "        WHERE ta.predicate = 'RO:0002327'  -- enables\n",
    "    )\n",
    "    SELECT DISTINCT\n",
    "        cr.reaction_id,\n",
    "        cr.compound_name,\n",
    "        re.role_name as enzyme_role,\n",
    "        rs.value as reaction_name\n",
    "    FROM compound_reactions cr\n",
    "    LEFT JOIN reaction_enzymes re ON cr.reaction_id = re.reaction_id\n",
    "    LEFT JOIN {namespace}.statements rs \n",
    "        ON cr.reaction_id = rs.subject \n",
    "        AND rs.predicate = 'rdfs:label'\n",
    "    LIMIT {limit}\n",
    "    \"\"\"\n",
    "    \n",
    "    return spark.sql(query).toPandas()\n",
    "\n",
    "# Example: Find pathways involving pyruvate\n",
    "pyruvate_pathways = find_metabolic_pathway('pyruvate', limit=30)\n",
    "print(f\"Found {len(pyruvate_pathways)} reactions involving pyruvate:\")\n",
    "display(pyruvate_pathways)"
   ]
  },
  {
   "cell_type": "markdown",
   "metadata": {},
   "source": [
    "## Summary Statistics"
   ]
  },
  {
   "cell_type": "code",
   "execution_count": null,
   "metadata": {},
   "outputs": [],
   "source": [
    "# Get summary statistics for all tables\n",
    "def get_table_statistics():\n",
    "    \"\"\"Get detailed statistics for each table\"\"\"\n",
    "    \n",
    "    for table in tables:\n",
    "        print(f\"\\n{'='*60}\")\n",
    "        print(f\"Table: {namespace}.{table}\")\n",
    "        print(f\"{'='*60}\")\n",
    "        \n",
    "        # Get row count\n",
    "        count = spark.sql(f\"SELECT COUNT(*) as cnt FROM {namespace}.{table}\").collect()[0]['cnt']\n",
    "        print(f\"Total rows: {count:,}\")\n",
    "        \n",
    "        # Get schema\n",
    "        schema = spark.sql(f\"SELECT * FROM {namespace}.{table} LIMIT 1\").schema\n",
    "        print(f\"\\nColumns ({len(schema.fields)}):\")\n",
    "        for field in schema.fields:\n",
    "            print(f\"  - {field.name}: {field.dataType}\")\n",
    "        \n",
    "        # Show sample\n",
    "        print(f\"\\nSample data:\")\n",
    "        sample_df = spark.sql(f\"SELECT * FROM {namespace}.{table} LIMIT 3\").toPandas()\n",
    "        display(sample_df)\n",
    "\n",
    "# Run statistics\n",
    "get_table_statistics()"
   ]
  },
  {
   "cell_type": "code",
   "execution_count": null,
   "metadata": {},
   "outputs": [],
   "source": []
  },
  {
   "cell_type": "code",
   "execution_count": null,
   "metadata": {},
   "outputs": [],
   "source": []
  },
  {
   "cell_type": "code",
   "execution_count": null,
   "metadata": {},
   "outputs": [],
   "source": []
  }
 ],
 "metadata": {
  "kernelspec": {
   "display_name": "Python 3 (ipykernel)",
   "language": "python",
   "name": "python3"
  },
  "language_info": {
   "codemirror_mode": {
    "name": "ipython",
    "version": 3
   },
   "file_extension": ".py",
   "mimetype": "text/x-python",
   "name": "python",
   "nbconvert_exporter": "python",
   "pygments_lexer": "ipython3",
   "version": "3.11.9"
  }
 },
 "nbformat": 4,
 "nbformat_minor": 4
}
