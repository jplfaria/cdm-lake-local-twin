{
 "cells": [
  {
   "cell_type": "markdown",
   "metadata": {},
   "source": "# Interactive Search for CDM Ontology Data\n\nThis notebook provides interactive search capabilities for the CDM ontology data loaded in the warehouse.\nEach table has its own section with search widgets."
  },
  {
   "cell_type": "code",
   "execution_count": null,
   "metadata": {},
   "outputs": [],
   "source": "# Setup - Import required libraries and initialize Spark\nfrom spark.utils import get_spark_session\nimport ipywidgets as widgets\nfrom IPython.display import display, HTML\nimport pandas as pd\n\nspark = get_spark_session()\nnamespace = 'ontology_data'\n\n# Helper function to display search results\ndef display_results(df, max_rows=100):\n    \"\"\"Display dataframe results with nice formatting\"\"\"\n    if df.empty:\n        print(\"No results found.\")\n    else:\n        print(f\"Found {len(df)} results (showing up to {max_rows}):\")\n        display(df.head(max_rows))"
  },
  {
   "cell_type": "markdown",
   "source": "## 1. Statements Table Search\n\nSearch through 42.4M ontology statements (RDF triples)",
   "metadata": {}
  },
  {
   "cell_type": "code",
   "source": "# Load statements table\nprint(\"Loading statements table...\")\nstatements_df = spark.table(f\"{namespace}.statements\")\nprint(f\"Statements table loaded. Schema:\")\nstatements_df.printSchema()\n\n# Create search widgets for statements\nsearch_text = widgets.Text(\n    value='',\n    placeholder='Enter search term',\n    description='Search:',\n    style={'description_width': 'initial'}\n)\n\nsearch_column = widgets.Dropdown(\n    options=['subject', 'predicate', 'object', 'value', 'datatype', 'language'],\n    value='subject',\n    description='Column:',\n    style={'description_width': 'initial'}\n)\n\nlimit_slider = widgets.IntSlider(\n    value=50,\n    min=10,\n    max=500,\n    step=10,\n    description='Limit:',\n    style={'description_width': 'initial'}\n)\n\nsearch_button = widgets.Button(\n    description='Search Statements',\n    button_style='primary',\n    icon='search'\n)\n\noutput = widgets.Output()\n\ndef search_statements(b):\n    with output:\n        output.clear_output()\n        if search_text.value:\n            # Create SQL query\n            query = f\"\"\"\n            SELECT * \n            FROM {namespace}.statements\n            WHERE LOWER({search_column.value}) LIKE LOWER('%{search_text.value}%')\n            LIMIT {limit_slider.value}\n            \"\"\"\n            \n            print(f\"Searching for '{search_text.value}' in column '{search_column.value}'...\")\n            result_df = spark.sql(query).toPandas()\n            display_results(result_df, limit_slider.value)\n\nsearch_button.on_click(search_statements)\n\n# Display widgets\ndisplay(widgets.HBox([search_text, search_column, limit_slider]))\ndisplay(search_button)\ndisplay(output)",
   "metadata": {},
   "execution_count": null,
   "outputs": []
  },
  {
   "cell_type": "markdown",
   "source": "## 2. Entailed Edge Table Search\n\nSearch through 117.5M inferred relationships",
   "metadata": {}
  },
  {
   "cell_type": "code",
   "source": "# Load entailed_edge table\nprint(\"Loading entailed_edge table...\")\nentailed_edge_df = spark.table(f\"{namespace}.entailed_edge\")\nprint(f\"Entailed edge table loaded. Schema:\")\nentailed_edge_df.printSchema()\n\n# Create search widgets for entailed_edge\nedge_search_text = widgets.Text(\n    value='',\n    placeholder='Enter search term',\n    description='Search:',\n    style={'description_width': 'initial'}\n)\n\nedge_search_column = widgets.Dropdown(\n    options=['subject', 'predicate', 'object'],\n    value='subject',\n    description='Column:',\n    style={'description_width': 'initial'}\n)\n\nedge_limit_slider = widgets.IntSlider(\n    value=50,\n    min=10,\n    max=500,\n    step=10,\n    description='Limit:',\n    style={'description_width': 'initial'}\n)\n\nedge_search_button = widgets.Button(\n    description='Search Edges',\n    button_style='primary',\n    icon='search'\n)\n\nedge_output = widgets.Output()\n\ndef search_edges(b):\n    with edge_output:\n        edge_output.clear_output()\n        if edge_search_text.value:\n            # Create SQL query\n            query = f\"\"\"\n            SELECT * \n            FROM {namespace}.entailed_edge\n            WHERE LOWER({edge_search_column.value}) LIKE LOWER('%{edge_search_text.value}%')\n            LIMIT {edge_limit_slider.value}\n            \"\"\"\n            \n            print(f\"Searching for '{edge_search_text.value}' in column '{edge_search_column.value}'...\")\n            result_df = spark.sql(query).toPandas()\n            display_results(result_df, edge_limit_slider.value)\n\nedge_search_button.on_click(search_edges)\n\n# Display widgets\ndisplay(widgets.HBox([edge_search_text, edge_search_column, edge_limit_slider]))\ndisplay(edge_search_button)\ndisplay(edge_output)",
   "metadata": {},
   "execution_count": null,
   "outputs": []
  },
  {
   "cell_type": "markdown",
   "source": "## 3. Feature Annotation Table Search\n\nSearch through 237K genomic features from 50 E. coli genomes",
   "metadata": {}
  },
  {
   "cell_type": "code",
   "source": "# Load feature_annotation table\nprint(\"Loading feature_annotation table...\")\nfeature_annotation_df = spark.table(f\"{namespace}.feature_annotation\")\nprint(f\"Feature annotation table loaded. Schema:\")\nfeature_annotation_df.printSchema()\n\n# Create search widgets for feature_annotation\nfeature_search_text = widgets.Text(\n    value='',\n    placeholder='Enter search term',\n    description='Search:',\n    style={'description_width': 'initial'}\n)\n\nfeature_search_column = widgets.Dropdown(\n    options=['feature_id', 'genome_id', 'genome_taxa', 'bakta_type', 'bakta_gene', \n             'bakta_product', 'bakta_ec', 'bakta_go', 'bakta_cog_id', 'bakta_cog_category',\n             'bakta_interpro', 'bakta_uniref', 'protein_hash'],\n    value='bakta_product',\n    description='Column:',\n    style={'description_width': 'initial'}\n)\n\nfeature_limit_slider = widgets.IntSlider(\n    value=50,\n    min=10,\n    max=500,\n    step=10,\n    description='Limit:',\n    style={'description_width': 'initial'}\n)\n\nfeature_search_button = widgets.Button(\n    description='Search Features',\n    button_style='primary',\n    icon='search'\n)\n\nfeature_output = widgets.Output()\n\ndef search_features(b):\n    with feature_output:\n        feature_output.clear_output()\n        if feature_search_text.value:\n            # Create SQL query\n            query = f\"\"\"\n            SELECT * \n            FROM {namespace}.feature_annotation\n            WHERE LOWER({feature_search_column.value}) LIKE LOWER('%{feature_search_text.value}%')\n            LIMIT {feature_limit_slider.value}\n            \"\"\"\n            \n            print(f\"Searching for '{feature_search_text.value}' in column '{feature_search_column.value}'...\")\n            result_df = spark.sql(query).toPandas()\n            display_results(result_df, feature_limit_slider.value)\n\nfeature_search_button.on_click(search_features)\n\n# Display widgets\ndisplay(widgets.HBox([feature_search_text, feature_search_column]))\ndisplay(widgets.HBox([feature_limit_slider, feature_search_button]))\ndisplay(feature_output)",
   "metadata": {},
   "execution_count": null,
   "outputs": []
  },
  {
   "cell_type": "markdown",
   "source": "## 4. Term Association Table Search\n\nSearch through 3.3K enzyme-reaction mappings",
   "metadata": {}
  },
  {
   "cell_type": "code",
   "source": "# Load term_association table\nprint(\"Loading term_association table...\")\nterm_association_df = spark.table(f\"{namespace}.term_association\")\nprint(f\"Term association table loaded. Schema:\")\nterm_association_df.printSchema()\n\n# Create search widgets for term_association\nterm_search_text = widgets.Text(\n    value='',\n    placeholder='Enter search term',\n    description='Search:',\n    style={'description_width': 'initial'}\n)\n\nterm_search_column = widgets.Dropdown(\n    options=['subject', 'predicate', 'object'],\n    value='subject',\n    description='Column:',\n    style={'description_width': 'initial'}\n)\n\nterm_limit_slider = widgets.IntSlider(\n    value=50,\n    min=10,\n    max=500,\n    step=10,\n    description='Limit:',\n    style={'description_width': 'initial'}\n)\n\nterm_search_button = widgets.Button(\n    description='Search Terms',\n    button_style='primary',\n    icon='search'\n)\n\nterm_output = widgets.Output()\n\ndef search_terms(b):\n    with term_output:\n        term_output.clear_output()\n        if term_search_text.value:\n            # Create SQL query\n            query = f\"\"\"\n            SELECT * \n            FROM {namespace}.term_association\n            WHERE LOWER({term_search_column.value}) LIKE LOWER('%{term_search_text.value}%')\n            LIMIT {term_limit_slider.value}\n            \"\"\"\n            \n            print(f\"Searching for '{term_search_text.value}' in column '{term_search_column.value}'...\")\n            result_df = spark.sql(query).toPandas()\n            display_results(result_df, term_limit_slider.value)\n\nterm_search_button.on_click(search_terms)\n\n# Display widgets\ndisplay(widgets.HBox([term_search_text, term_search_column, term_limit_slider]))\ndisplay(term_search_button)\ndisplay(term_output)",
   "metadata": {},
   "execution_count": null,
   "outputs": []
  },
  {
   "cell_type": "markdown",
   "source": "## Quick Reference\n\n### Available Tables:\n- **statements** (42.4M rows): Ontology statements (RDF triples)\n- **entailed_edge** (117.5M rows): Inferred relationships  \n- **feature_annotation** (237K rows): Genomic features from 50 E. coli genomes\n- **term_association** (3.3K rows): Enzyme-reaction mappings\n\n### Usage:\n1. Each table has its own search section with interactive widgets\n2. Select the column to search in from the dropdown\n3. Enter your search term and adjust the result limit\n4. Click the search button to execute the query\n5. Results will appear below each search widget",
   "metadata": {}
  },
  {
   "cell_type": "markdown",
   "metadata": {},
   "source": [
    "## Example Searches"
   ]
  }
 ],
 "metadata": {
  "kernelspec": {
   "display_name": "Python 3 (ipykernel)",
   "language": "python",
   "name": "python3"
  },
  "language_info": {
   "codemirror_mode": {
    "name": "ipython",
    "version": 3
   },
   "file_extension": ".py",
   "mimetype": "text/x-python",
   "name": "python",
   "nbconvert_exporter": "python",
   "pygments_lexer": "ipython3",
   "version": "3.11.9"
  }
 },
 "nbformat": 4,
 "nbformat_minor": 4
}